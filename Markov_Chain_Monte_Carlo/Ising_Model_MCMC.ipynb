{
 "cells": [
  {
   "cell_type": "markdown",
   "metadata": {},
   "source": [
    "# 37 - Gibbs Sampling \n",
    "\n",
    "The Ising Model is given by $\\pi(\\sigma) = \\textrm{exp}(\\sum_{\\overrightarrow{i} \\textrm{~} \\overrightarrow{j}} \\sigma_{\\overrightarrow{i}} \\sigma_{\\overrightarrow{j}}) / Z$, where $Z$ is the normalization constant (sum of the denisities across the state space of size $2^{L^2}$, where $L$ is the length of the lattice) \n",
    "<br> \n",
    "\n",
    "If not specificed, we'll be using n = 1 million samples, $\\beta = 0.2$, and lattice size 4 (4x4 lattice) "
   ]
  },
  {
   "cell_type": "code",
   "execution_count": 507,
   "metadata": {
    "collapsed": true
   },
   "outputs": [],
   "source": [
    "import matplotlib.mlab as mlab\n",
    "import matplotlib.pyplot as plt\n",
    "import acor\n",
    "import numpy as np \n",
    "\n",
    "BOLT = 100 #1.3807 * 10**(-23) #actually this numbers get rather large / small "
   ]
  },
  {
   "cell_type": "code",
   "execution_count": 508,
   "metadata": {
    "collapsed": true
   },
   "outputs": [],
   "source": [
    "def initialize_lattice(l):\n",
    "    space = [-1, 1]\n",
    "    L = [] \n",
    "    for i in range(l):\n",
    "        L.append( np.random.choice(space, size = l) ) \n",
    "    return( np.matrix(L) )     \n",
    "    \n",
    "\n",
    "def get_neighbors(L, i, j):\n",
    "    '''\n",
    "    params: \n",
    "        - L: nxn np matrix representing the periodic lattice \n",
    "        - i: int, x coordinate on lattice L \n",
    "        - j: int, y coordinate on lattice L \n",
    "    returns: \n",
    "        length 4 tuple of coordinates (x,y) of the neighbor\n",
    "        (NORTH, SOUTH, EAST, WEST)\n",
    "    note: using np matrix coordinates so i -> row index, j -> columns index \n",
    "    '''\n",
    "    l = L.shape[0]\n",
    "    if j == 0: \n",
    "        WEST = (i, l - 1)\n",
    "    else: \n",
    "        WEST = (i, j - 1)\n",
    "    if j == (l-1):\n",
    "        EAST = (i, 0)\n",
    "    else: \n",
    "        EAST = (i, j + 1,)\n",
    "    \n",
    "    if i == 0: \n",
    "        NORTH = (l - 1, j)\n",
    "    else: \n",
    "        NORTH = (i - 1, j)\n",
    "    if i == (l-1):\n",
    "        SOUTH = (0, j)\n",
    "    else: \n",
    "        SOUTH = (i + 1, j)\n",
    "    \n",
    "    return (NORTH, SOUTH, EAST, WEST)\n",
    "    \n",
    "def ising_conditional(L, beta, i, j): \n",
    "    '''\n",
    "    params: \n",
    "        - L: nxn np matrix representing the periodic lattice \n",
    "        - i: int, x coordinate on lattice L \n",
    "        - j: int, y coordinate on lattice L \n",
    "        - beta: float, 1 / (boltzman_constant * kelvin)\n",
    "    returns: \n",
    "        - conditional probabillity p(sigma_{ik} = 1| sigma_{others} ) = 1 - p(sigma_{ik} = -1| sigma_{others} )\n",
    "    '''\n",
    "    neighbors = get_neighbors(L, i, j)\n",
    "    mag_neighbor = 0\n",
    "    #print(neighbors)\n",
    "    for point in neighbors: \n",
    "        #print(point)\n",
    "        sigma = L[point[0], point[1]]\n",
    "        #print(sigma)\n",
    "        mag_neighbor += sigma\n",
    "    #print(mag_neighbor)\n",
    "    power = 2 * mag_neighbor * beta\n",
    "    pos = np.e**(power)\n",
    "    neg = np.e**(-power)\n",
    "    \n",
    "    return pos / (pos + neg)"
   ]
  },
  {
   "cell_type": "code",
   "execution_count": 509,
   "metadata": {},
   "outputs": [
    {
     "name": "stdout",
     "output_type": "stream",
     "text": [
      "expected: [(2, 0), (1, 0), (0, 1), (0, 2)]\n",
      "actual: ((2, 0), (1, 0), (0, 1), (0, 2))\n",
      "\n",
      "expected: [(0, 1), (2, 1), (1, 2), (1, 0)]\n",
      "actual: ((0, 1), (2, 1), (1, 2), (1, 0))\n",
      "\n",
      "expected: [(1, 2), (0, 2), (2, 0), (2, 1)]\n",
      "actual: ((1, 2), (0, 2), (2, 0), (2, 1))\n",
      "\n",
      "expected: [(0, 0), (2, 0), (1, 1), (1, 2)]\n",
      "actual: ((0, 0), (2, 0), (1, 1), (1, 2))\n",
      "\n"
     ]
    }
   ],
   "source": [
    "#Test neighbors \n",
    "lattice = initialize_lattice(3)\n",
    "points = [(0,0), (1,1), (2,2), (1,0)]\n",
    "neighbors = [   [(2, 0), (1, 0), (0, 1), (0, 2)],\n",
    "                [(0, 1), (2, 1), (1, 2), (1, 0)],\n",
    "                [(1, 2), (0, 2), (2, 0), (2, 1)],\n",
    "                [(0, 0), (2, 0), (1, 1), (1, 2)]\n",
    "            ]\n",
    "for index in range(len(points)):\n",
    "    expect = neighbors[index]\n",
    "    x = points[index][0]\n",
    "    y = points[index][1]\n",
    "    actual = get_neighbors(lattice, x, y) \n",
    "    print(\"expected: {}\".format(expect))\n",
    "    print(\"actual: {}\\n\".format(actual))"
   ]
  },
  {
   "cell_type": "code",
   "execution_count": 510,
   "metadata": {},
   "outputs": [
    {
     "name": "stdout",
     "output_type": "stream",
     "text": [
      "[[-1 -1 -1]\n",
      " [ 1  1 -1]\n",
      " [-1  1  1]]\n",
      "0.167981614866\n",
      "0.167981614866\n",
      "0.832018385134\n"
     ]
    }
   ],
   "source": [
    "#Test conditional, just a quick visual inspection will do.  \n",
    "beta = 0.2 \n",
    "print(lattice) \n",
    "\n",
    "print( ising_conditional(lattice, beta, 0, 0 ) ) \n",
    "print( ising_conditional(lattice, beta, 1, 0 ) )\n",
    "print( ising_conditional(lattice, beta, 1, 2) ) "
   ]
  },
  {
   "cell_type": "code",
   "execution_count": 511,
   "metadata": {
    "collapsed": true
   },
   "outputs": [],
   "source": [
    "def gibbs_ising_magnetization_deterministic(L, beta, n):\n",
    "    '''\n",
    "    Gibbs sampling resampling each point on the lattice iteratively.  \n",
    "    params: \n",
    "        - n: number of samples \n",
    "        - L: nxn np matrix representing the periodic lattice. Values should ONLY be {-1, 1}\n",
    "    returns: \n",
    "        - numpy vector of length n where each is the magnetization of the lattice\n",
    "    '''\n",
    "    space = [1, -1]\n",
    "    l = L.shape[0]\n",
    "    mags = [] \n",
    "    i = 0 \n",
    "    j = 0 \n",
    "    for k in range(n): \n",
    "        if j == l: \n",
    "            j = 0 \n",
    "            i += 1 \n",
    "        if i == l: \n",
    "            i = 0 \n",
    "        #print(i, j)\n",
    "        p = ising_conditional(L, beta, i, j)\n",
    "        sigma_ik = np.random.choice(space, p = [p, 1-p])\n",
    "        L[i, j] =  sigma_ik#now update the lattice\n",
    "        mag = np.sum(L)\n",
    "        mags.append(mag)\n",
    "        j += 1 \n",
    "\n",
    "    return mags "
   ]
  },
  {
   "cell_type": "markdown",
   "metadata": {},
   "source": [
    "Let's test out the gibbs sampler for magnetization for on a 4x4 by lattice. First let's do deterministically by traversing the lattice. "
   ]
  },
  {
   "cell_type": "code",
   "execution_count": 301,
   "metadata": {
    "collapsed": true
   },
   "outputs": [],
   "source": [
    "#Test gibbs sampling \n",
    "lattice = initialize_lattice(l=4)\n",
    "n = 10**7\n",
    "gibbs_4_d = gibbs_ising_magnetization_deterministic(lattice, beta, n=n)"
   ]
  },
  {
   "cell_type": "code",
   "execution_count": 302,
   "metadata": {},
   "outputs": [
    {
     "data": {
      "image/png": "[encoded data removed]",
      "text/plain": [
       "<matplotlib.figure.Figure at 0x7f305a2bb400>"
      ]
     },
     "metadata": {},
     "output_type": "display_data"
    }
   ],
   "source": [
    "plt.hist(gibbs_4_d, normed = 1)\n",
    "plt.title('Histogram: 4x4 Magnetization - Deterministic')\n",
    "plt.xlabel('Magnetization')\n",
    "plt.ylabel('Probability')\n",
    "plt.show()"
   ]
  },
  {
   "cell_type": "code",
   "execution_count": 320,
   "metadata": {},
   "outputs": [
    {
     "name": "stdout",
     "output_type": "stream",
     "text": [
      "The gibbs sampling estimator (deterministic) is -0.0253568, with integrated autocorrelation time of 671.5818552278938\n"
     ]
    }
   ],
   "source": [
    "tau, mean, sigma = acor.acor(gibbs_4_d )\n",
    "print(\"The gibbs sampling estimator (deterministic) is {}, with integrated autocorrelation time of {}\".format(mean, tau))"
   ]
  },
  {
   "cell_type": "markdown",
   "metadata": {},
   "source": [
    "Now let's try gibbs sampling on the ising model with randomly selected points on the same 4x4 lattice: "
   ]
  },
  {
   "cell_type": "code",
   "execution_count": 309,
   "metadata": {
    "collapsed": true
   },
   "outputs": [],
   "source": [
    "def gibbs_ising_magnetization_random(L, beta, n): \n",
    "    '''\n",
    "    Gibbs sampling using a random point on the lattice to resample. \n",
    "    params: \n",
    "        - n: number of samples \n",
    "        - L: nxn np matrix representing the periodic lattice. Values should ONLY be {-1, 1}\n",
    "    returns: \n",
    "        - numpy vector of length n where each is the magnetization of the lattice\n",
    "    '''\n",
    "    space = [1, -1]\n",
    "    l = L.shape[0]\n",
    "    indices = list(range(l))\n",
    "    mags = [] \n",
    "    \n",
    "    x = np.random.choice(indices, size = n)\n",
    "    y = np.random.choice(indices, size = n)\n",
    "    for i, j in zip(x, y): \n",
    "        #print(i, j)\n",
    "        p = ising_conditional(L, beta, i, j)\n",
    "        sigma_ik = np.random.choice(space, p = [p, 1-p])\n",
    "        L[i, j] =  sigma_ik #now update the lattice\n",
    "        mag = np.sum(L)\n",
    "        mags.append(mag)\n",
    "    return mags \n",
    "    "
   ]
  },
  {
   "cell_type": "code",
   "execution_count": 312,
   "metadata": {
    "collapsed": true
   },
   "outputs": [],
   "source": [
    "gibbs_4_r = gibbs_ising_magnetization_random(lattice, beta, n=n)"
   ]
  },
  {
   "cell_type": "code",
   "execution_count": 313,
   "metadata": {},
   "outputs": [
    {
     "data": {
      "image/png": "[encoded data removed]",
      "text/plain": [
       "<matplotlib.figure.Figure at 0x7f3079296208>"
      ]
     },
     "metadata": {},
     "output_type": "display_data"
    }
   ],
   "source": [
    "plt.hist(gibbs_4_r, normed = 1)\n",
    "plt.title('Histogram: 4x4 Magnetization - Random')\n",
    "plt.xlabel('Magnetization')\n",
    "plt.ylabel('Probability')\n",
    "plt.show()"
   ]
  },
  {
   "cell_type": "code",
   "execution_count": 321,
   "metadata": {},
   "outputs": [
    {
     "name": "stdout",
     "output_type": "stream",
     "text": [
      "The gibbs sampling estimator (random) is 0.0800608, with integrated autocorrelation time of 1217.6672983559686\n"
     ]
    }
   ],
   "source": [
    "tau, mean, sigma = acor.acor(gibbs_4_r )\n",
    "print(\"The gibbs sampling estimator (random) is {}, with integrated autocorrelation time of {}\".format(mean, tau))"
   ]
  },
  {
   "cell_type": "markdown",
   "metadata": {},
   "source": [
    "The autocorrelation for the random case (without replacement) is noticably higher than for the deterministic case. This is mainy because it is likely that we resample the same points (within near time steps) more often, leading to a slower change in the Ising model. Thus, we prefer to determinstically sweep through the lattice, which will be faster   "
   ]
  },
  {
   "cell_type": "markdown",
   "metadata": {},
   "source": [
    "## Changing the size of the Lattice \n",
    "\n",
    "For the same number of samples and temperature, we observe what happens when the lattice size changes. Not going to run this part because temperature took almost an hour and it's getting kind of late. "
   ]
  },
  {
   "cell_type": "code",
   "execution_count": null,
   "metadata": {},
   "outputs": [],
   "source": [
    "sizes = list(range(3, 30, 5))\n",
    "acor_data = [] \n",
    "for l in sizes: \n",
    "    lattice_l = initialize_lattice(l=l)\n",
    "    gibbs_l_d = gibbs_ising_magnetization_deterministic(lattice_l, beta, n=10**7)\n",
    "    tau_l, mean_l, sigma_l = acor.acor(gibbs_l_d )\n",
    "    acor_data.append([tau_l, mean_l, sigma_l])\n",
    "    print(\"The gibbs sampler estimator for lattice size {} is {}, with integrated autocorrelation time of {}\".format(l, mean_l, tau_l))"
   ]
  },
  {
   "cell_type": "markdown",
   "metadata": {},
   "source": [
    "Even though it may not have run, we expact that as the lattice size increases, so does the integrated autocorrelation time. This makes since at each step we are unlikely to make significant changes to the lattice, hence the magnetization for each step is most likely going to be the same. "
   ]
  },
  {
   "cell_type": "markdown",
   "metadata": {},
   "source": [
    "## Changing the Temperature \n",
    "\n",
    "For the same number of samples and lattice size, we observe what happens when the temperature changes:  "
   ]
  },
  {
   "cell_type": "code",
   "execution_count": 487,
   "metadata": {},
   "outputs": [
    {
     "name": "stdout",
     "output_type": "stream",
     "text": [
      "The gibbs sampler for beta = 0.01 is -0.0041464, with integrated autocorrelation time of 17.644215065950245\n",
      "The gibbs sampler for beta = 0.028183829312644536 is 0.0013224, with integrated autocorrelation time of 20.829292011301213\n",
      "The gibbs sampler for beta = 0.07943282347242814 is 0.00019, with integrated autocorrelation time of 38.46845569086123\n",
      "The gibbs sampler for beta = 0.223872113856834 is -0.135272, with integrated autocorrelation time of 1749.9931777743927\n",
      "The gibbs sampler for beta = 0.6309573444801932 is -15.9986618, with integrated autocorrelation time of 16.57783285948803\n"
     ]
    }
   ],
   "source": [
    "powers = np.linspace(start = -2, stop = -0.2, num = 5)\n",
    "acor_beta = [] \n",
    "for p in powers:\n",
    "    b = 10**p\n",
    "    gibbs_b_d = gibbs_ising_magnetization_deterministic(lattice, b, n=10**7)\n",
    "    tau_b, mean_b, sigma_b = acor.acor(gibbs_b_d)\n",
    "    acor_beta.append([tau_b, mean_b, sigma_b])\n",
    "    print(\"The gibbs sampler for beta = {} is {}, with integrated autocorrelation time of {}\".format(b, mean_b, tau_b))"
   ]
  },
  {
   "cell_type": "markdown",
   "metadata": {},
   "source": [
    "We observe that as the beta increases (temperature decreases), the integrated autocorrelation increases as well. High temperatures means a higher probabillity of a point to take on the charge of its neighbors, so once we reach a magnetization of $L^2$ or $-L^2$, changes in magnetization will be rare."
   ]
  },
  {
   "cell_type": "markdown",
   "metadata": {},
   "source": [
    "# Metropolis Hastings, Ising Magnetization) "
   ]
  },
  {
   "cell_type": "code",
   "execution_count": 276,
   "metadata": {
    "collapsed": true
   },
   "outputs": [],
   "source": [
    "def metropolis_hasting_ising(n, L, beta): \n",
    "    '''\n",
    "    Uses Metropolis Hastings to sample the ising model magentization\n",
    "    params:  \n",
    "        - n: number of samples to obtain  \n",
    "        - L: nxn np matrix representing the periodic lattice. Values should ONLY be {-1, 1}\n",
    "        - beta: unsigned int, represents the temperature. Higher beta means lower temperature. \n",
    "    returns: \n",
    "        - numpy vector of length n where each is the magnetization of the lattice\n",
    "    '''\n",
    "    space = [1, -1]\n",
    "    l = L.shape[0]\n",
    "    indices = list(range(l))\n",
    "\n",
    "    mags = []\n",
    "    x = np.random.choice(indices, size = n)\n",
    "    y = np.random.choice(indices, size = n)\n",
    "    for i, j in zip(x, y): \n",
    "        p = ising_conditional(L, beta, i, j)\n",
    "        y_ik = np.random.choice(space, p = [p, 1-p])\n",
    "        \n",
    "        ratio = step_density_ratio(L, beta, i, j)\n",
    "        p_acc = min([1, ratio])\n",
    "        accept = np.random.choice([True, False], p = [p_acc, 1 - p_acc])\n",
    "        if accept:\n",
    "            y_ik = np.random.choice(space, p = [p, 1 - p])\n",
    "        L[i, j] =  y_ik #now update the lattice\n",
    "        mag = np.sum(L)\n",
    "        mags.append(mag) \n",
    "\n",
    "    return mags \n",
    "\n",
    "def step_density_ratio(L, beta, i, j): \n",
    "    '''\n",
    "    returns: \n",
    "        the ratio of pi(y) / pi(x) \n",
    "    '''\n",
    "    neighbors = get_neighbors(i=i, j=j, L=L)\n",
    "    mag_neighbors = 0 \n",
    "    for point in neighbors: \n",
    "        mag_neighbors += L[point[0], point[1]]\n",
    "    #print(mag_neighbors)\n",
    "    power = -4 * beta * L[i,j] * mag_neighbors\n",
    "    #print(power)\n",
    "    return np.exp(power) \n"
   ]
  },
  {
   "cell_type": "code",
   "execution_count": 317,
   "metadata": {
    "collapsed": true
   },
   "outputs": [],
   "source": [
    "mh_4 = metropolis_hasting_ising(n, lattice, beta)"
   ]
  },
  {
   "cell_type": "code",
   "execution_count": 318,
   "metadata": {},
   "outputs": [
    {
     "data": {
      "image/png": "[encoded data removed]",
      "text/plain": [
       "<matplotlib.figure.Figure at 0x7f30628b5978>"
      ]
     },
     "metadata": {},
     "output_type": "display_data"
    }
   ],
   "source": [
    "plt.hist(mh_4, normed = 1)                                                     \n",
    "plt.title('Histogram: 4x4 Magnetization - Random')\n",
    "plt.xlabel('Magnetization')\n",
    "plt.ylabel('Probability')\n",
    "plt.show()"
   ]
  },
  {
   "cell_type": "code",
   "execution_count": 514,
   "metadata": {},
   "outputs": [
    {
     "name": "stdout",
     "output_type": "stream",
     "text": [
      "The MCMC estimator (Metroplis Hasting) is -0.1448358, with integrated autocorrelation time of 1264.3094780373008\n"
     ]
    }
   ],
   "source": [
    "tau_mh, mean_mh, sigma_mh = acor.acor(mh_4)   \n",
    "print(\"The MCMC estimator (Metroplis Hasting) is {}, with integrated autocorrelation time of {}\".\n",
    "      format(mean_mh, tau_mh))"
   ]
  },
  {
   "cell_type": "markdown",
   "metadata": {},
   "source": [
    "The integrated autocorrelation time for MH is about twice as large as the one from the determinisitc MH scheme. This is most likely due to having the same sample when we \"reject\" the next step and our Ising model stays the same (Thus leading the lattice to be more similar to previous iterations)."
   ]
  },
  {
   "cell_type": "markdown",
   "metadata": {},
   "source": [
    "# Jarzynski’s method \n",
    "\n",
    "## Without Resampling \n",
    "We need a scheme that can preserve $\\pi_k$, so gibbs sampling works perfectly for this. That is, for each trajectory j at step k $X^{(k,j)}$ we will randomly select a point on the lattice and resample. Below are some functions to help us out (specifically to update the weights and lattice of each trajectory: "
   ]
  },
  {
   "cell_type": "code",
   "execution_count": 513,
   "metadata": {},
   "outputs": [],
   "source": [
    "def update_weights_ising(L, prev_weight, n, beta):\n",
    "    '''\n",
    "    updates the weights: W_k = W_{k-1} * pi^{1 / N-1} \n",
    "    params: \n",
    "        - L: lxl np matrix the lattice \n",
    "        - prev_weight: float, W_{k-1} of trajectory j \n",
    "        - n: int, total number of steps\n",
    "        - beta: float\n",
    "    returns: \n",
    "        new weight \n",
    "    '''\n",
    "    #let's calc w_k = pi(x_k)^(1/(N - 1) ) \n",
    "    l = L.shape[0]\n",
    "    inter_sum = 0 \n",
    "    for i in range(l): \n",
    "        for j in range(l): \n",
    "            neighbors = get_neighbors(i=i, j=j, L=L)\n",
    "            for p in neighbors: \n",
    "                inter_sum += L[i, j] * L[p[0], p[1]]  \n",
    "    pi_xt = np.exp(beta * inter_sum)\n",
    "    pwr = 1/(n-1)\n",
    "    w_k = pi_xt**(pwr)\n",
    "    W_k = prev_weight * w_k \n",
    "    return(W_k)\n",
    "\n",
    "##quick test\n",
    "test_L = np.matrix([[1,1],[1,1]])\n",
    "traj_len = 10\n",
    "prev_weight = 1/traj_len \n",
    "#update_weights_ising(test_L, prev_weight, traj_len, beta) #yay we good "
   ]
  },
  {
   "cell_type": "code",
   "execution_count": 512,
   "metadata": {},
   "outputs": [
    {
     "name": "stdout",
     "output_type": "stream",
     "text": [
      "[matrix([[1, 1],\n",
      "        [1, 1]]), matrix([[ 1, -1],\n",
      "        [ 1, -1]])]\n"
     ]
    },
    {
     "data": {
      "text/plain": [
       "([matrix([[1, 1],\n",
       "          [1, 1]]), matrix([[ 1, -1],\n",
       "          [ 1, -1]])], array([ 0.58796414,  0.41203586]))"
      ]
     },
     "execution_count": 512,
     "metadata": {},
     "output_type": "execute_result"
    }
   ],
   "source": [
    "def update_gibbs_lattice_list(lattices, weights, l, beta, n): \n",
    "    '''\n",
    "    Updates each trajectory and the trajectory's weights \n",
    "    params: \n",
    "        l: dimension of lattice \n",
    "        lattices: length m list of lxl lattices \n",
    "        weights: current weight vector for step k \n",
    "        beta: float, proportional to inverse of temperature (Kelvin)\n",
    "        n: int, number of steps to reach pi  \n",
    "    returns: \n",
    "        (length m updated lattice list, length m array-like of weights)  \n",
    "    '''\n",
    "    m = len(lattices)\n",
    "    indices = list(range(l))\n",
    "    x_coords = np.random.choice(indices, size = m)\n",
    "    y_coords = np.random.choice(indices, size = m)\n",
    "    space = [1, -1]\n",
    "    for t_i in range(m): #t_i = trajectory_i  \n",
    "        L = lattices[t_i]\n",
    "        x = x_coords[t_i]; y = y_coords[t_i] #chosen point on lattice to resample  \n",
    "        \n",
    "        p = ising_conditional(L, beta, x, y)\n",
    "        sigma_ik = np.random.choice(space, p = [p, 1-p])\n",
    "        L[x, y] =  sigma_ik #now update the lattice\n",
    "        \n",
    "        lattices[t_i] = L #update the lattice list with the updated lattice \n",
    "        weights[t_i] = update_weights_ising(beta=beta, L=L, n=n, prev_weight=weights[t_i])\n",
    "    weights = weights / np.sum(weights) # normalize weights to sum to 1 \n",
    "    return lattices, weights\n",
    "    \n",
    "#Quick test\n",
    "l1 = np.matrix([[1,1], [1,1]])\n",
    "l2 = -1 * np.matrix([[1,1], [1,1]])\n",
    "l3 = np.matrix([[1,-1], [1,-1]])\n",
    "lattices_test = [l1, l3]\n",
    "print(lattices_test)\n",
    "test_weights = [0.5, 0.5]\n",
    "update_gibbs_lattice_list(lattices_test, test_weights, l = 2, beta = beta, n = traj_len)"
   ]
  },
  {
   "cell_type": "markdown",
   "metadata": {},
   "source": [
    "More functions, for resampling the weights. "
   ]
  },
  {
   "cell_type": "code",
   "execution_count": 469,
   "metadata": {},
   "outputs": [
    {
     "data": {
      "text/plain": [
       "[matrix([[1, 1],\n",
       "         [1, 1]]), matrix([[-1, -1],\n",
       "         [-1, -1]]), matrix([[ 1, -1],\n",
       "         [ 1, -1]]), matrix([[ 1, -1],\n",
       "         [ 1, -1]])]"
      ]
     },
     "execution_count": 469,
     "metadata": {},
     "output_type": "execute_result"
    }
   ],
   "source": [
    "def generate_lattices(M, l):\n",
    "    '''\n",
    "    generates M lxl lattices \n",
    "    returns: \n",
    "        len M list of lxl np matrices \n",
    "    '''\n",
    "    lattices = [] \n",
    "    for i in range(M):\n",
    "        lattices.append(initialize_lattice(l))\n",
    "    return lattices\n",
    "\n",
    "def resample_bernoulli(weights, l): \n",
    "    '''\n",
    "    Generates new copy numbers N_k using Bernoilli Resampling technique \n",
    "    params: \n",
    "        weights - np array\n",
    "        l - number of draws \n",
    "    returns: \n",
    "         np.matrix n x l where each index [i,j] contains copy number sample i of sample x_j with weight w_j \n",
    "    '''\n",
    "    n = len(weights)\n",
    "    NW = n * weights\n",
    "    NW_floor = NW.astype(int)\n",
    "    \n",
    "    resamples = [] \n",
    "    for i in range(l):\n",
    "        u = np.random.uniform(size = n)\n",
    "        cond = (u <  NW - NW_floor)\n",
    "        resamples.append( NW_floor + cond ) \n",
    "    return np.matrix( resamples ) \n",
    "\n",
    "def bernoulli_lattice_resample(lattice_list, weights):\n",
    "    '''\n",
    "    Uses bernoulli resampling to get a new list of trajectories \n",
    "    '''\n",
    "    lattice_list_new = [] \n",
    "    copy_numbers = resample_bernoulli(np.array(weights), 1)\n",
    "    for i in range(len(weights)):\n",
    "        cn = copy_numbers[0, i]\n",
    "        for j in range(cn): \n",
    "            lattice_list_new.append(lattice_list[i])\n",
    "    return lattice_list_new\n",
    "\n",
    "#quick test for bernoulli resampling \n",
    "l1 = np.matrix([[1,1], [1,1]])\n",
    "l2 = -1 * np.matrix([[1,1], [1,1]])\n",
    "l3 = np.matrix([[1,-1], [1,-1]])\n",
    "lattices_test = [l1, l2, l3]\n",
    "weights = [0.1, 0.3, 0.6]\n",
    "bernoulli_lattice_resample(lattices_test, weights)"
   ]
  },
  {
   "cell_type": "code",
   "execution_count": 496,
   "metadata": {},
   "outputs": [
    {
     "data": {
      "text/plain": [
       "-3.9933647956793026"
      ]
     },
     "execution_count": 496,
     "metadata": {},
     "output_type": "execute_result"
    }
   ],
   "source": [
    "def generate_lattices(M, l):\n",
    "    '''\n",
    "    generates M lxl lattices \n",
    "    returns: \n",
    "        len M list of lxl np matrices \n",
    "    '''\n",
    "    lattices = [] \n",
    "    for i in range(M):\n",
    "        lattices.append(initialize_lattice(l))\n",
    "    return lattices\n",
    "\n",
    "\n",
    "def jarzynski_ising(M, n, l, beta = 0.2, resample = False): \n",
    "    '''\n",
    "    The main function for jarzynski_ising. \n",
    "    Using density update pi_k = pi^(k/n-1) so we can start we a uniformally {-1,1} sampled lattice \n",
    "    params: \n",
    "        M - int, number of trajectories \n",
    "        n - int, number of steps to reach pi \n",
    "        l - int, dimension of lattice \n",
    "        resample - If True, resamples the weights at the beginning of each update step. \n",
    "    returns: \n",
    "        length M chain of magnetizations \n",
    "    '''\n",
    "    lattices = generate_lattices(M, l)\n",
    "    weights = [1/M] * M\n",
    "    for k in range(n):\n",
    "        if resample: \n",
    "            lattices = bernoulli_lattice_resample(lattices, weights)\n",
    "            M_n = len(lattices)\n",
    "            weights = [1/M_n] * M_n\n",
    "        #update each lattice, weights with gibbs \n",
    "        lattices, weights = update_gibbs_lattice_list(lattices, weights, l, beta, n)\n",
    "    return lattices, weights\n",
    "\n",
    "\n",
    "def compute_weighted_mag(lattice_list, weights): \n",
    "    '''\n",
    "    computes the weighted average of the lattices \n",
    "    '''\n",
    "    avg = 0 \n",
    "    for w, L in zip(weights, lattice_list): \n",
    "        avg += w * np.sum(L)\n",
    "    return avg \n",
    "\n",
    "#quick test \n",
    "lattice_list, weights = jarzynski_ising(M=2, n = 2, l = 2)\n",
    "compute_weighted_mag(lattice_list, weights)"
   ]
  },
  {
   "cell_type": "markdown",
   "metadata": {},
   "source": [
    "To evaluate the performance, let us observe how quickly Jarzynki converges to 0 as we increase the number of trajectories $M$ For $N = 50$ steps on the $\\beta = 0.2$ 4x4 lattice:  "
   ]
  },
  {
   "cell_type": "code",
   "execution_count": null,
   "metadata": {},
   "outputs": [],
   "source": [
    "def get_trend(lattice_list, weights):\n",
    "    '''\n",
    "    returns: \n",
    "        a list of estimators of the expected magnetization using on estimators 1:k \n",
    "    '''\n",
    "    est = [] \n",
    "    for k in range(len(lattice_list)): \n",
    "        l_tmp = lattice_list[0:k]\n",
    "        w_tmp = weights[0:k]\n",
    "        w_tmp = w_tmp / np.sum(w_tmp)\n",
    "        est.append(compute_weighted_mag(l_tmp, w_tmp))\n",
    "    return est \n",
    "\n",
    "\n",
    "lattice_list, weights = jarzynski_ising(M=1000, n = 50, l = 4)\n",
    "trend = get_trend(lattice_list, weights)\n",
    "traj_count = list(range(len(lattice_list)))"
   ]
  },
  {
   "cell_type": "code",
   "execution_count": 501,
   "metadata": {},
   "outputs": [
    {
     "data": {
      "image/png": "[encoded data removed]",
      "text/plain": [
       "<matplotlib.figure.Figure at 0x7f2ff184ee80>"
      ]
     },
     "metadata": {},
     "output_type": "display_data"
    }
   ],
   "source": [
    "plt.plot(traj_count, trend)\n",
    "plt.xlabel(\"Number of Trajectories\")\n",
    "plt.ylabel(\"Est. Expected Magnetization\")\n",
    "plt.show()"
   ]
  },
  {
   "cell_type": "markdown",
   "metadata": {},
   "source": [
    "At about 900 trajectories, we our estimator seems to hit a stable form at 0. For computation this corresponds to 900 trajectories x 50 steps, which is far less than gibbs or MH for the same ising model. (Though we do have to traverse the lattice for each update)."
   ]
  },
  {
   "cell_type": "markdown",
   "metadata": {},
   "source": [
    "### Increasing the number of steps\n",
    "\n",
    "Let's see what happens for different sizes of n: "
   ]
  },
  {
   "cell_type": "code",
   "execution_count": 475,
   "metadata": {},
   "outputs": [],
   "source": [
    "M = 100\n",
    "l = 4\n",
    "\n",
    "n_list = list(range(5, 400, 25))\n",
    "means = [] \n",
    "weight_vars = [] \n",
    "for N in n_list:  \n",
    "    lattice_list, weights = jarzynski_ising(M = M, n = N, l = l)\n",
    "    weight_vars.append( np.var(weights) ) \n",
    "    means.append( compute_weighted_mag(lattice_list, weights) ) "
   ]
  },
  {
   "cell_type": "code",
   "execution_count": 476,
   "metadata": {},
   "outputs": [
    {
     "data": {
      "image/png": "[encoded data removed]",
      "text/plain": [
       "<matplotlib.figure.Figure at 0x7f2ff161acf8>"
      ]
     },
     "metadata": {},
     "output_type": "display_data"
    }
   ],
   "source": [
    "plt.plot(n_list, weight_vars)\n",
    "plt.xlabel('n, the number time steps')\n",
    "plt.ylabel('variance of the weight vector')\n",
    "plt.title('Variance of weights as we crank up n')\n",
    "plt.show()"
   ]
  },
  {
   "cell_type": "markdown",
   "metadata": {},
   "source": [
    "Based off of the variance plot, it seems that the variance reaches a limiting value at about $n = 225$. This should be the point where the majority of the points in the lattice have a magnetization of $L^2$ or $-L^2$ - the most probably case (And hence stable weights). Keeping \"computational effort\" in mind: as we increase n, we have to resample M lattices, so if the decrease in variance is insignificant for an increase in n, we should stop. "
   ]
  },
  {
   "cell_type": "code",
   "execution_count": 504,
   "metadata": {},
   "outputs": [
    {
     "data": {
      "image/png": "[encoded data removed]",
      "text/plain": [
       "<matplotlib.figure.Figure at 0x7f2fddd08f28>"
      ]
     },
     "metadata": {},
     "output_type": "display_data"
    }
   ],
   "source": [
    "plt.plot(n_list, means)\n",
    "plt.xlabel('n, the number time steps')\n",
    "plt.ylabel('estimator of expected magnetization')\n",
    "plt.title('estimator as we crank up n')\n",
    "plt.show()"
   ]
  },
  {
   "cell_type": "markdown",
   "metadata": {},
   "source": [
    "Based off the estimator plot, we see that we increase the number of steps, the more accurate our estimator is (seems to have limit value at 0). The makes sense because again, all trajectories will approach all positive or negative magnetization. \n",
    "\n"
   ]
  },
  {
   "cell_type": "markdown",
   "metadata": {},
   "source": [
    "## With Resampling \n",
    "\n",
    "Now let's try with Bernoulli Resampling of the Weights: "
   ]
  },
  {
   "cell_type": "code",
   "execution_count": 481,
   "metadata": {},
   "outputs": [],
   "source": [
    "n_list = list(range(5, 50, 5))\n",
    "means_bernoulli = [] \n",
    "weight_vars_bernoulli = [] \n",
    "for N in n_list:  \n",
    "    lattice_list, weights = jarzynski_ising(M = M, n = N, l = l, resample=True)\n",
    "    weight_vars_bernoulli.append( np.var(weights) ) \n",
    "    means_bernoulli.append( compute_weighted_mag(lattice_list, weights) ) "
   ]
  },
  {
   "cell_type": "code",
   "execution_count": 482,
   "metadata": {},
   "outputs": [
    {
     "data": {
      "image/png": "[encoded data removed]",
      "text/plain": [
       "<matplotlib.figure.Figure at 0x7f2ff1607198>"
      ]
     },
     "metadata": {},
     "output_type": "display_data"
    }
   ],
   "source": [
    "plt.plot(n_list, weight_vars_bernoulli)\n",
    "plt.xlabel('n, the number time steps')\n",
    "plt.ylabel('variance of the weight vector')\n",
    "plt.title('Variance of weights (using resampling) as we crank up n')\n",
    "plt.show()"
   ]
  },
  {
   "cell_type": "markdown",
   "metadata": {},
   "source": [
    "The variance of the weight vector is small when we resample the trajectories with respect to their weights, naturally because we have a new vector of weights of weight of $\\frac{1}{M_k}$, where most of the copy numbers will fall on the latices with $L^2$ or $-L^2$ magnetization. Notice that compared to without resampling, the variance is not only smaller, but also approaches its limiting value significnantly faster (at about $n = 15$ the variance doesn't decrease significantly). "
   ]
  },
  {
   "cell_type": "markdown",
   "metadata": {},
   "source": [
    "## Comparison \n",
    "\n",
    "The main edge that sequential importance sampling has over gibbs sampling and MH is that we can start at some initial distribution. We can't simply sample from $\\pi(\\sigma)$, so we started with a uniformally sampled lattice. This is problematic when we do gibbs and MH. Jarzynski's Method allows us to start at a initial state that is not $\\pi$ that will converge to an unbiased estimator (if we know the multiplicative constant) for $\\pi f$. \n",
    "\n",
    "<br> \n",
    "However, one problem with Jarzinsky is computation time. While we don't need as large $N$ (number of time steps, only 15 when using resampling compared to 1 million for a 4x4 lattice for a reasonable estimator from MH and gibbs), but we need to a good number of trajectories $M$, resulting in O(MN) updates. We also need to continually compute the interaction for the density of the lattice at each weight update, so we need to traverse through the entire lattice for each trajectory. So as we increase the size of the lattice, computation will become even more expensive. \n"
   ]
  }
 ],
 "metadata": {
  "kernelspec": {
   "display_name": "Python 3",
   "language": "python",
   "name": "python3"
  },
  "language_info": {
   "codemirror_mode": {
    "name": "ipython",
    "version": 3
   },
   "file_extension": ".py",
   "mimetype": "text/x-python",
   "name": "python",
   "nbconvert_exporter": "python",
   "pygments_lexer": "ipython3",
   "version": "3.6.2"
  }
 },
 "nbformat": 4,
 "nbformat_minor": 2
}
