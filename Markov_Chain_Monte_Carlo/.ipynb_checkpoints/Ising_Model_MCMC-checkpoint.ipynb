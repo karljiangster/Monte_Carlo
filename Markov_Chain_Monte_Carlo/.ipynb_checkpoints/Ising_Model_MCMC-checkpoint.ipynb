{
 "cells": [
  {
   "cell_type": "markdown",
   "metadata": {},
   "source": [
    "# 37 - Gibbs Sampling \n",
    "\n",
    "The Ising Model is given by $\\pi(\\sigma) = \\textrm{exp}(\\sum_{\\overrightarrow{i} \\textrm{~} \\overrightarrow{j}} \\sigma_{\\overrightarrow{i}} \\sigma_{\\overrightarrow{j}}) / Z$, where $Z$ is the normalization constant (sum of the denisities across the state space of size $2^{L^2}$, where $L$ is the length of the lattice) \n",
    "<br> \n",
    "\n",
    "We define the transition probabillity $q(\\sigma_{\\overrightarrow{i}}| \\sigma_{\\overrightarrow{j} \\neq \\overrightarrow{i}}) = \\pi(\\sigma_{\\overrightarrow{i}}| \\sigma_{\\overrightarrow{j} \\neq \\overrightarrow{i}})$ "
   ]
  },
  {
   "cell_type": "code",
   "execution_count": 57,
   "metadata": {
    "collapsed": true
   },
   "outputs": [],
   "source": [
    "import sys\n",
    "#path = \"/home/karljiang/Academic/Monte_Carlo/Markov_Chain_Monte_Carlo/acor/acor\"\n",
    "#sys.path.insert(0, path)\n",
    "\n",
    "import acor\n",
    "import numpy as np \n",
    "\n",
    "BOLT = 1 #1.3807 * 10**(-23) #actually this numbers get rather large / small "
   ]
  },
  {
   "cell_type": "code",
   "execution_count": 58,
   "metadata": {},
   "outputs": [],
   "source": [
    "def initialize_lattice(l):\n",
    "    space = [-1, 1]\n",
    "    L = [] \n",
    "    for i in range(l):\n",
    "        L.append( np.random.choice(space, size = l) ) \n",
    "    return( np.matrix(L) )     \n",
    "    \n",
    "\n",
    "def get_neighbors(L, i, j):\n",
    "    '''\n",
    "    params: \n",
    "        - L: nxn np matrix representing the periodic lattice \n",
    "        - i: int, x coordinate on lattice L \n",
    "        - j: int, y coordinate on lattice L \n",
    "    returns: \n",
    "        length 4 tuple of coordinates (x,y) of the neighbor\n",
    "        (NORTH, SOUTH, EAST, WEST)\n",
    "    note: using computer coordinates (0,0) is at top left \n",
    "    '''\n",
    "    l = L.shape[0]\n",
    "    if i == 0: \n",
    "        WEST = (l - 1, j)\n",
    "    else: \n",
    "        WEST = (i - 1, j)\n",
    "    if i == (l-1):\n",
    "        EAST = (0, j)\n",
    "    else: \n",
    "        EAST = (i + 1, j)\n",
    "    \n",
    "    if j == 0: \n",
    "        NORTH = (i, l - 1)\n",
    "    else: \n",
    "        NORTH = (i, j - 1)\n",
    "    if j == (l-1):\n",
    "        SOUTH = (i, 0)\n",
    "    else: \n",
    "        SOUTH = (i, j + 1)\n",
    "    \n",
    "    return (NORTH, SOUTH, EAST, WEST)\n",
    "    \n",
    "def ising_conditional(L, temp, i, j): \n",
    "    '''\n",
    "    params: \n",
    "        - L: nxn np matrix representing the periodic lattice \n",
    "        - i: int, x coordinate on lattice L \n",
    "        - j: int, y coordinate on lattice L \n",
    "        - temp: int, temperature in Kelvin ~= Celsius + 273 \n",
    "    returns: \n",
    "        - conditional probabillity p(sigma_{ik} = 1| sigma_{others} ) = 1 - p(sigma_{ik} = -1| sigma_{others} )\n",
    "    '''\n",
    "    neighbors = get_neighbors(L, i, j)\n",
    "    mag_neighbor = 0\n",
    "    for point in neighbors: \n",
    "        sigma = L[point[0], point[1]]\n",
    "        mag_neighbor += sigma \n",
    "    power = 2 * mag_neighbor / (BOLT * temp)\n",
    "    print(power)\n",
    "    pos = np.e**(power)\n",
    "    neg = np.e**(-power)\n",
    "    \n",
    "    return pos / (pos + neg)"
   ]
  },
  {
   "cell_type": "code",
   "execution_count": 40,
   "metadata": {},
   "outputs": [
    {
     "name": "stdout",
     "output_type": "stream",
     "text": [
      "expected: [(0, 2), (0, 1), (1, 0), (2, 0)]\n",
      "actual: ((0, 2), (0, 1), (1, 0), (2, 0))\n",
      "\n",
      "expected: [(1, 0), (1, 2), (2, 1), (0, 1)]\n",
      "actual: ((1, 0), (1, 2), (2, 1), (0, 1))\n",
      "\n",
      "expected: [(2, 1), (2, 0), (0, 2), (1, 2)]\n",
      "actual: ((2, 1), (2, 0), (0, 2), (1, 2))\n",
      "\n"
     ]
    }
   ],
   "source": [
    "#Test neighbors \n",
    "lattice = initialize_lattice(3)\n",
    "points = [(0,0), (1,1), (2,2)]\n",
    "neighbors = [   [(0, 2), (0, 1), (1, 0), (2, 0)],\n",
    "                [(1, 0), (1, 2), (2, 1), (0, 1)],\n",
    "                [(2, 1), (2, 0), (0, 2), (1, 2)]\n",
    "            ]\n",
    "for index in range(len(points)):\n",
    "    expect = neighbors[index]\n",
    "    x = points[index][0]\n",
    "    y = points[index][1]\n",
    "    actual = get_neighbors(lattice, x, y) \n",
    "    print(\"expected: {}\".format(expect))\n",
    "    print(\"actual: {}\\n\".format(actual))"
   ]
  },
  {
   "cell_type": "code",
   "execution_count": 59,
   "metadata": {},
   "outputs": [
    {
     "name": "stdout",
     "output_type": "stream",
     "text": [
      "-1.977529823e+21\n"
     ]
    },
    {
     "name": "stderr",
     "output_type": "stream",
     "text": [
      "/home/karljiang/anaconda3/lib/python3.6/site-packages/ipykernel_launcher.py:59: RuntimeWarning: overflow encountered in double_scalars\n"
     ]
    },
    {
     "data": {
      "text/plain": [
       "0.0"
      ]
     },
     "execution_count": 59,
     "metadata": {},
     "output_type": "execute_result"
    }
   ],
   "source": [
    "#Test conditional \n",
    "temp = 293 #20 degrees Celsius \n",
    "ising_conditional(lattice, temp, points[0][0], points[0][1])"
   ]
  },
  {
   "cell_type": "code",
   "execution_count": 18,
   "metadata": {
    "collapsed": true
   },
   "outputs": [],
   "source": [
    "def gibbs_ising_magnetization_deterministic(L, n):\n",
    "    '''\n",
    "    params: \n",
    "        - n: number of samples \n",
    "        - L: nxn np matrix representing the periodic lattice. Values should ONLY be {-1, 1}\n",
    "    returns: \n",
    "        - numpy vector of length n where each is the magnetization of the lattice\n",
    "    '''\n",
    "    space = [1, -1]\n",
    "    nr = L.shape()[0]\n",
    "    mags = [] \n",
    "    for k in n: \n",
    "        for i in nr:\n",
    "            for j in nc: \n",
    "                p = ising_condition(L, i, j)\n",
    "                sigma_ik = np.choice([space], p = [p, 1-p])\n",
    "                mag = np.sum(L)\n",
    "                mags.append(mag)\n",
    "    return mags "
   ]
  },
  {
   "cell_type": "code",
   "execution_count": 8,
   "metadata": {},
   "outputs": [
    {
     "data": {
      "text/plain": [
       "30.306067775226907"
      ]
     },
     "execution_count": 8,
     "metadata": {},
     "output_type": "execute_result"
    }
   ],
   "source": [
    "blah = np.linspace(2.0, 3.0, num=500)\n",
    "blah\n",
    "tau, mean, sigma = acor.acor(blah)\n",
    "tau"
   ]
  }
 ],
 "metadata": {
  "kernelspec": {
   "display_name": "Python 3",
   "language": "python",
   "name": "python3"
  },
  "language_info": {
   "codemirror_mode": {
    "name": "ipython",
    "version": 3
   },
   "file_extension": ".py",
   "mimetype": "text/x-python",
   "name": "python",
   "nbconvert_exporter": "python",
   "pygments_lexer": "ipython3",
   "version": "3.6.2"
  }
 },
 "nbformat": 4,
 "nbformat_minor": 2
}
