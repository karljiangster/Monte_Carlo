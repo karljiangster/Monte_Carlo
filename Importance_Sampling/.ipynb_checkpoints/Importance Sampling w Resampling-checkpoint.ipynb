{
 "cells": [
  {
   "cell_type": "markdown",
   "metadata": {},
   "source": [
    "# 27) Generating Gaussians"
   ]
  },
  {
   "cell_type": "code",
   "execution_count": 118,
   "metadata": {
    "collapsed": true
   },
   "outputs": [],
   "source": [
    "import numpy as np \n",
    "from scipy import stats"
   ]
  },
  {
   "cell_type": "markdown",
   "metadata": {},
   "source": [
    "## Auxillary Functions \n",
    "\n",
    "In order of appearance: \n",
    "\n",
    "1) Importance sampling (to generate the weights) <br> \n",
    "2) Sample Variance (for checking implementations and for later part) <br>\n",
    "3) Sample Mean (for checking implementations) "
   ]
  },
  {
   "cell_type": "code",
   "execution_count": 119,
   "metadata": {
    "collapsed": true
   },
   "outputs": [],
   "source": [
    "def importance_sampling_gauss(n, sigma): \n",
    "    '''\n",
    "    params: \n",
    "        n - int, number of samples to generate \n",
    "        sigma - int, standard deviation \n",
    "    returns: \n",
    "        np.array of length n \n",
    "    '''\n",
    "    x = np.random.normal(size = n)\n",
    "    pi_t_y = stats.norm.pdf(x, scale = sigma)\n",
    "    pi_y = stats.norm.pdf(x)\n",
    "    \n",
    "    w = pi_y / pi_t_y \n",
    "    w_norm = w / np.sum(w) \n",
    "    return np.array( [x, w_norm] )\n",
    "\n",
    "\n",
    "def calc_sample_var_multi(X):\n",
    "    ''' \n",
    "    Does what title says. Assumes expected values are known. \n",
    "    params: \n",
    "        X - 2d (n x p) np.matrix with X[:, j] as samples from distribution X_j \n",
    "    return: \n",
    "        vars - array-like of length p representing estimated variances for each \n",
    "    '''\n",
    "    p = X.shape[1] #num columns \n",
    "    var = []\n",
    "    for j in range(p): \n",
    "        resamples_j = np.squeeze(np.asarray(X[:, j]))\n",
    "        var.append( np.var(resamples_j))\n",
    "    return var\n",
    "\n",
    "def calc_sample_average(X): \n",
    "    '''\n",
    "    params: \n",
    "        X - nxp np.matrix where column j is sampled from distribution j \n",
    "    returns: \n",
    "        x_bar - np array of length p where each element j corresponds to mean of column j of X \n",
    "    '''\n",
    "    p = X.shape[1] #num columns \n",
    "    x_bar = []\n",
    "    for j in range(p): \n",
    "        resamples_j = np.squeeze(np.asarray(X[:, j]))\n",
    "        x_bar.append( np.mean(resamples_j))\n",
    "    return x_bar\n",
    "    "
   ]
  },
  {
   "cell_type": "markdown",
   "metadata": {},
   "source": [
    "## Resampling Implementations \n",
    "\n",
    "The four used are <br>\n",
    "1) Multinomial  \n",
    "2) Bernoulli <br>\n",
    "3) Stratified <br>\n",
    "4) Systematic <br>"
   ]
  },
  {
   "cell_type": "markdown",
   "metadata": {},
   "source": [
    "### Multinomial "
   ]
  },
  {
   "cell_type": "code",
   "execution_count": 120,
   "metadata": {
    "collapsed": true
   },
   "outputs": [],
   "source": [
    "def resample_gauss_multinom(weights, l):\n",
    "    '''\n",
    "    Using multinomial resampling to sample copy numbers N_k from set W of size n.  \n",
    "    params: \n",
    "        weights - np.array of length n, s.t. sum(weights) = 1\n",
    "        l - int, number of times to resample (for calculating variances I suppose) \n",
    "            Note that each l means sampling n * l times from the multinomial distribution \n",
    "    returns: \n",
    "        np.matrix n x l where each index [i,j] contains copy number sample i of sample x_j with weight w_j \n",
    "    '''\n",
    "    resamples = []\n",
    "    for i in range(l):\n",
    "        resamples.append( np.random.multinomial( len(weights), weights) ) \n",
    "    return np.matrix( resamples )  \n"
   ]
  },
  {
   "cell_type": "code",
   "execution_count": 121,
   "metadata": {
    "collapsed": true
   },
   "outputs": [],
   "source": [
    "n_samples = 10\n",
    "sigma = 2\n",
    "X = importance_sampling_gauss(n_samples, 2) \n",
    "weights = X[1, :] \n",
    "expected = weights * n_samples #the expected value of the copy numbers given the weights, E[N_k]\n",
    "\n",
    "l = 2000 #number of draws from resampling scheme distribution \n",
    "w_resample = resample_gauss_multinom(weights, l) #N_k  "
   ]
  },
  {
   "cell_type": "code",
   "execution_count": 122,
   "metadata": {},
   "outputs": [
    {
     "ename": "TypeError",
     "evalue": "calc_sample_var_multi() got an unexpected keyword argument 'mu'",
     "output_type": "error",
     "traceback": [
      "\u001b[0;31m---------------------------------------------------------------------------\u001b[0m",
      "\u001b[0;31mTypeError\u001b[0m                                 Traceback (most recent call last)",
      "\u001b[0;32m<ipython-input-122-365bad7e1161>\u001b[0m in \u001b[0;36m<module>\u001b[0;34m()\u001b[0m\n\u001b[1;32m      1\u001b[0m \u001b[0mmu\u001b[0m \u001b[0;34m=\u001b[0m \u001b[0mn_samples\u001b[0m \u001b[0;34m*\u001b[0m \u001b[0mweights\u001b[0m\u001b[0;34m\u001b[0m\u001b[0m\n\u001b[0;32m----> 2\u001b[0;31m \u001b[0mest_var_multinom\u001b[0m \u001b[0;34m=\u001b[0m \u001b[0mcalc_sample_var_multi\u001b[0m\u001b[0;34m(\u001b[0m\u001b[0mmu\u001b[0m \u001b[0;34m=\u001b[0m \u001b[0mmu\u001b[0m\u001b[0;34m,\u001b[0m \u001b[0mX\u001b[0m \u001b[0;34m=\u001b[0m \u001b[0mw_resample\u001b[0m\u001b[0;34m)\u001b[0m\u001b[0;34m\u001b[0m\u001b[0m\n\u001b[0m\u001b[1;32m      3\u001b[0m \u001b[0mvar_multinom\u001b[0m \u001b[0;34m=\u001b[0m \u001b[0mn_samples\u001b[0m \u001b[0;34m*\u001b[0m \u001b[0mweights\u001b[0m \u001b[0;34m*\u001b[0m \u001b[0;34m(\u001b[0m \u001b[0;36m1\u001b[0m \u001b[0;34m-\u001b[0m \u001b[0mweights\u001b[0m\u001b[0;34m)\u001b[0m\u001b[0;34m\u001b[0m\u001b[0m\n\u001b[1;32m      4\u001b[0m \u001b[0mprint\u001b[0m\u001b[0;34m(\u001b[0m\u001b[0mvar_multinom\u001b[0m\u001b[0;34m)\u001b[0m\u001b[0;34m\u001b[0m\u001b[0m\n\u001b[1;32m      5\u001b[0m \u001b[0mprint\u001b[0m\u001b[0;34m(\u001b[0m\u001b[0mest_var_multinom\u001b[0m\u001b[0;34m)\u001b[0m\u001b[0;34m\u001b[0m\u001b[0m\n",
      "\u001b[0;31mTypeError\u001b[0m: calc_sample_var_multi() got an unexpected keyword argument 'mu'"
     ]
    }
   ],
   "source": [
    "mu = n_samples * weights \n",
    "est_var_multinom = calc_sample_var_multi(mu = mu, X = w_resample)\n",
    "var_multinom = n_samples * weights * ( 1 - weights)\n",
    "print(var_multinom)\n",
    "print(est_var_multinom)"
   ]
  },
  {
   "cell_type": "markdown",
   "metadata": {},
   "source": [
    "### Bernoulli Resampling) "
   ]
  },
  {
   "cell_type": "code",
   "execution_count": null,
   "metadata": {
    "collapsed": true
   },
   "outputs": [],
   "source": [
    "def resample_bernoulli(weights, l): \n",
    "    '''\n",
    "    Generates new copy numbers N_k using Bernoilli Resampling technique \n",
    "    params: \n",
    "        weights - np array\n",
    "        l - number of draws \n",
    "    returns: \n",
    "         np.matrix n x l where each index [i,j] contains copy number sample i of sample x_j with weight w_j \n",
    "    '''\n",
    "    n = len(weights)\n",
    "    NW = n * weights\n",
    "    NW_floor = np.floor(NW)\n",
    "    \n",
    "    resamples = [] \n",
    "    for i in range(l):\n",
    "        u = np.random.uniform(size = n)\n",
    "        cond = (u <  NW - NW_floor)\n",
    "        resamples.append( NW_floor + cond ) \n",
    "    return np.matrix( resamples ) "
   ]
  },
  {
   "cell_type": "code",
   "execution_count": null,
   "metadata": {},
   "outputs": [],
   "source": [
    "w_resample_bernoulli = resample_bernoulli(weights, l)\n",
    "print(calc_sample_var_multi(mu = mu, X = w_resample_bernoulli))\n",
    "var_resample_bernoulli = (mu - np.floor(mu)) * (np.ceil(mu) - mu)\n",
    "print(var_resample_bernoulli)"
   ]
  },
  {
   "cell_type": "markdown",
   "metadata": {},
   "source": [
    "### Stratified Resampling "
   ]
  },
  {
   "cell_type": "code",
   "execution_count": null,
   "metadata": {
    "collapsed": true
   },
   "outputs": [],
   "source": [
    "def get_ranges(weights): \n",
    "    '''\n",
    "    params: \n",
    "        weights - np array of length n representing sample weights \n",
    "    returns: \n",
    "        np array of length n where each element i contains sum(weights_j) for j <= i\n",
    "    '''    \n",
    "    thresholds = [] \n",
    "    cur = 0 \n",
    "    for w in weights:\n",
    "        cur += w\n",
    "        thresholds.append(cur)\n",
    "    return thresholds \n",
    "\n",
    "def count_points(thresholds, u): \n",
    "    '''\n",
    "    params: \n",
    "       thresholds - np array of length n representing cumulative sums of weights up to element i \n",
    "       u - sorted np array of length, presumably generated from stratas \n",
    "    returns: \n",
    "        np array of length n where each element i represents the copy count, \n",
    "            here it is the number of points that fall between \n",
    "            thresholds[i - 1] and thresholds[i]\n",
    "    '''\n",
    "    j = 0 #iterator through u  \n",
    "    N_k = [] \n",
    "    count = 0 \n",
    "    for bound in thresholds: \n",
    "        #print(\"bound: {}\".format(bound))\n",
    "        while j < len(u): \n",
    "            #print(\"u[j]: {}\".format(u[j]))\n",
    "            if bound > u[j]: \n",
    "                #print(\"Yes! u[j] ({}) < bound ({})\".format(u[j], bound))\n",
    "                count += 1\n",
    "                j += 1 \n",
    "            else: \n",
    "                #print(\"No. u[j] ({}) > bound ({})\".format(u[j], bound))\n",
    "                N_k.append(count)\n",
    "                count = 0\n",
    "                break\n",
    "\n",
    "    #print(\"count after: {}\".format( count) ) \n",
    "    #now we need to fill in rest of the spots in N_k \n",
    "    N_k.append(count)\n",
    "    while len(N_k) < len(u): \n",
    "        N_k.append(0)\n",
    "    return N_k \n",
    "\n",
    "\n",
    "def resample_stratified(weights, l): \n",
    "    '''\n",
    "    Generates new copy numbers N_k using Stratified Resampling technique \n",
    "    params: \n",
    "        weights - np array \n",
    "        l - number of draws \n",
    "    returns: \n",
    "         np.matrix n x l where each index [i,j] contains copy number sample i of sample x_j with weight w_j \n",
    "    '''\n",
    "    thresholds = get_ranges(weights)\n",
    "        \n",
    "    resamples = [] \n",
    "    n = len(weights)\n",
    "    for i in range(l):\n",
    "        u = []\n",
    "        for j in range(n): #draw uniformally from each strata \n",
    "            u.append( np.random.uniform(low = j / n, high = (j + 1) / n) ) \n",
    "        N_i = count_points(thresholds, u)\n",
    "        \n",
    "        resamples.append( N_i ) \n",
    "    #print(len(resamples))\n",
    "    #print(len(N_i))\n",
    "    return np.matrix( resamples ) "
   ]
  },
  {
   "cell_type": "code",
   "execution_count": null,
   "metadata": {},
   "outputs": [],
   "source": [
    "thresholds = get_ranges(weights)\n",
    "u = []\n",
    "for j in range(n_samples): #draw uniformally from each strata \n",
    "    u.append( np.random.uniform(low = j / n_samples, high = (j + 1) / n_samples) ) \n",
    "N_i = count_points(thresholds, u)\n",
    "print(\"thresholds: {}\".format( np.round( thresholds, decimals=3) )  )\n",
    "print(\"u: {}\".format( np.round( u, decimals=3) ) )\n",
    "print(N_i, len(N_i))\n",
    "print(\"weights: {}\".format(np.round(weights, decimals = 3)))"
   ]
  },
  {
   "cell_type": "code",
   "execution_count": null,
   "metadata": {},
   "outputs": [],
   "source": [
    "resample_strata = resample_stratified(weights, l)\n",
    "#print(resample_strata.shape)\n",
    "strata_xbars = calc_sample_average(resample_strata)\n",
    "\n",
    "#print(strata_xbars - expected)\n",
    "#print(expected)"
   ]
  },
  {
   "cell_type": "markdown",
   "metadata": {},
   "source": [
    "### Systematic Resampling "
   ]
  },
  {
   "cell_type": "code",
   "execution_count": null,
   "metadata": {
    "collapsed": true
   },
   "outputs": [],
   "source": [
    "def resample_systematic(weights, l): \n",
    "    '''\n",
    "    Generates new copy numbers N_k using the Systematic Resampling technique \n",
    "    params: \n",
    "        weights - np array\n",
    "        l - number of draws \n",
    "    returns: \n",
    "         np.matrix n x l where each index [i,j] contains copy number sample i of sample x_j with weight w_j \n",
    "    '''\n",
    "    n = len(weights)\n",
    "    thresholds = get_ranges(weights)\n",
    "    intervals = np.array( range(n) ) / n\n",
    "    \n",
    "    resamples = [] \n",
    "    \n",
    "    for i in range(l):\n",
    "        u = np.random.uniform(high = 1 / n ) + intervals\n",
    "        N_i = count_points(thresholds, u)\n",
    "        resamples.append( N_i ) \n",
    "    return np.matrix( resamples )     "
   ]
  },
  {
   "cell_type": "code",
   "execution_count": 124,
   "metadata": {},
   "outputs": [
    {
     "data": {
      "text/plain": [
       "(2000, 10)"
      ]
     },
     "execution_count": 124,
     "metadata": {},
     "output_type": "execute_result"
    }
   ],
   "source": [
    "resample_sys = resample_systematic(weights, l)\n",
    "resample_sys.shape\n",
    "#sys_xbar = calc_sample_average(resample_sys)\n",
    "#print( sys_xbar - expected ) "
   ]
  },
  {
   "cell_type": "markdown",
   "metadata": {},
   "source": [
    "## Observing the sample variances \n",
    "\n",
    "We shall test the sample variances for l = 2000 resamples for n = 10 Importance samples (So we are actually drawing 2000 * 10 in total) for $\\sigma =  \\{1, 1.5, 2, 4, 8, 16\\}$\n"
   ]
  },
  {
   "cell_type": "code",
   "execution_count": 127,
   "metadata": {},
   "outputs": [],
   "source": [
    "sigmas = [1, 1.5, 2, 4, 8, 16]\n",
    "n_samples = 10\n",
    "l = 2000 #number of draws from resampling scheme distribution\n",
    "\n",
    "\n",
    "variances = {'multinom' : [], 'bernoulli': [], 'stratified' : [], 'systematic' : []} \n",
    "for sigma in sigmas: \n",
    "    X = importance_sampling_gauss(n_samples, 2) \n",
    "    weights = X[1, :] \n",
    "    mu = weights * n_samples #the expected value of the copy numbers given the weights, E[N_k]\n",
    "    \n",
    "    multinom_resample = resample_gauss_multinom(weights, l) #N_k\n",
    "    multinom_vars = calc_sample_var_multi(multinom_resample)\n",
    "    variances['multinom'].append(multinom_vars)\n",
    "    \n",
    "    bernoulli_resample = resample_bernoulli(weights, l)\n",
    "    bernoulli_vars = calc_sample_var_multi(bernoulli_resample)\n",
    "    variances['bernoulli'].append(bernoulli_vars)\n",
    "\n",
    "    stratified_resample = resample_stratified(weights, l)\n",
    "    stratified_vars = calc_sample_var_multi(stratified_resample)\n",
    "    variances['stratified'].append(stratified_vars)\n",
    "\n",
    "    sys_resample = resample_systematic(weights, l)\n",
    "    sys_vars = calc_sample_var_multi(sys_resample)\n",
    "    variances['systematic'].append(sys_vars)\n"
   ]
  },
  {
   "cell_type": "code",
   "execution_count": null,
   "metadata": {},
   "outputs": [],
   "source": [
    "a = [1]\n",
    "a.append([1,2])\n",
    "a"
   ]
  }
 ],
 "metadata": {
  "kernelspec": {
   "display_name": "Python 3",
   "language": "python",
   "name": "python3"
  },
  "language_info": {
   "codemirror_mode": {
    "name": "ipython",
    "version": 3
   },
   "file_extension": ".py",
   "mimetype": "text/x-python",
   "name": "python",
   "nbconvert_exporter": "python",
   "pygments_lexer": "ipython3",
   "version": "3.6.2"
  }
 },
 "nbformat": 4,
 "nbformat_minor": 2
}
