{
 "cells": [
  {
   "cell_type": "code",
   "execution_count": 65,
   "metadata": {
    "collapsed": true
   },
   "outputs": [],
   "source": [
    "import matplotlib.mlab as mlab\n",
    "import matplotlib.pyplot as plt \n",
    "import acor\n",
    "import numpy as np\n",
    "from scipy.stats import norm"
   ]
  },
  {
   "cell_type": "markdown",
   "metadata": {},
   "source": [
    "\n",
    "# 55) XY Model, Overdamped vs Metropolized\n",
    "\n",
    "The PDF of the XY model is given by \n",
    "\n",
    "$$\n",
    "\\pi(\\sigma) = \\frac{e^{\\beta \\sum_{|j - i| = 1} \\sigma (i) \\cdot \\sigma (j)}}{\\mathcal{Z}}\n",
    "$$\n",
    "\n",
    "For normalization constant $\\mathcal{Z}$ and $\\sigma(i) = (\\sigma_x(i), \\sigma_y(i))$ with constraint $||\\sigma(i)|| = 1$\n",
    "\n",
    "To sample from the XY model, it will be simpler to express each point $\\sigma(i)$ on the 1 dimensional lattice as angles: $\\theta(i) = arctan(\\frac{\\sigma_y(i)}{\\sigma_x(i)})$ The PDF in terms of the angle is \n",
    "\n",
    "$$\n",
    "\\pi(\\theta) = \\frac{e^{\\beta \\sum_{|j - i| = 1} cos( \\theta (i) - \\theta(j) )}}{\\mathcal{Z}}\n",
    "$$\n",
    "\n",
    "\n",
    "## Overdamped)  \n",
    "\n",
    "The recursive case where \n",
    "$$\n",
    "X^{(k+1)}_h = X^{(k)}_h + h\\mathbf{S}\\nabla^T\\textrm{log}(\\pi(X^{(k)}_h)) + \\sqrt{2h\\mathbf{S}} \\xi^{k+1}\n",
    "$$\n",
    "\n",
    "Where $X^{(k)}_h = (\\theta(1), ..., \\theta(L))$ the angles at step $k$, and $\\xi^{k+1}$ will be a length $L$ vector of independent gaussians, and $\\mathbf{S}$ be the correlation matrix of $\\xi$, which in this case is just the identity $\\mathbf{I}$. "
   ]
  },
  {
   "cell_type": "markdown",
   "metadata": {},
   "source": [
    "The partial of the log density w.r.t. to $\\theta(k)$ to some  is given by \n",
    "\n",
    "$$\n",
    "\\begin{aligned}\n",
    "\\frac{\\partial \\textrm{log}(\\pi(\\theta))}{\\partial \\theta(k)} \n",
    "&= \\frac{1}{\\pi(\\theta)} \\frac{\\partial \\pi(\\theta) }{\\partial \\theta(k)}  \\\\\n",
    "&= \\frac{1}{\\pi(\\theta)} \\pi(\\theta) \\frac{\\partial \\beta \\sum_{|j - k| = 1} cos( \\theta(k) - \\theta(j) ) }{\\partial \\theta(k)}  \\\\\n",
    "&= \\beta \\sum_{|j - k| = 1} -sin( \\theta(k) - \\theta(j) )  \n",
    "\\end{aligned} \n",
    "$$\n",
    "\n",
    "Note that here k is fixed, so $\\sum_{|j - k| = 1} f_j = \\sum_{j = 1}^L f_j \\mathbb{1}(|j - k| = 1)$ for some function $f_j$. This is only the left and right neighbors of point k on the periodic lattice. "
   ]
  },
  {
   "cell_type": "markdown",
   "metadata": {},
   "source": [
    "Below is the implementation for the overdamped scheme with gaussian noise on the XY model. First, some helper functions: "
   ]
  },
  {
   "cell_type": "code",
   "execution_count": 66,
   "metadata": {},
   "outputs": [
    {
     "name": "stdout",
     "output_type": "stream",
     "text": [
      "expected: (0, 0, 0) \t| actual: [-0. -0. -0.]\n",
      "expected: (1, -2, 1) \t| actual: [ 1. -2.  1.]\n",
      "expected: (0, 0, 0) \t| actual: [ 0. -0.  0.]\n"
     ]
    }
   ],
   "source": [
    "def initialize_XY(L): \n",
    "    '''\n",
    "    Generates a one dimensional lattice of the XY model \n",
    "    params: \n",
    "        L - size of lattice \n",
    "    returns:\n",
    "        len L numpy array of angles theta s.t. 0 <= theta <= 2 pi    \n",
    "    '''\n",
    "    return np.random.uniform(low = 0, high = 2 * np.pi, size = L)\n",
    "\n",
    "\n",
    "def get_neighbors(L, i): \n",
    "    '''\n",
    "    returns neighboring points on periodic lattice\n",
    "    params: \n",
    "        L - length of lattice \n",
    "        i - index \n",
    "    returns: \n",
    "        (j_1, j_2) indices of neighbors of i \n",
    "    '''\n",
    "    if i == L - 1: \n",
    "        return (L-2, 0)\n",
    "    if i == 0: \n",
    "        return (1, L - 1)\n",
    "    return (i - 1, i + 1)\n",
    "\n",
    "# TEST get_neighbors(): #\n",
    "#print( get_neighbors(3, 0) ) \n",
    "#print( get_neighbors(3, 1) ) \n",
    "#print( get_neighbors(3, 2) ) \n",
    "\n",
    "def log_gradient(XY, beta): \n",
    "    '''\n",
    "    computes the gradient of log(pi(XY)), where pi is the density \n",
    "    = -sum(sin(theta(i) - theta(k))) for all neighbors of k \n",
    "    params: \n",
    "        XY - the current 1d lattice of the XY model. \n",
    "                len L numpy array of angles   \n",
    "        beta - float, constant proportional to inverse temp \n",
    "    returns: \n",
    "        length L vector representing the log gradient \n",
    "    '''\n",
    "    L = len(XY)\n",
    "    log_grad = [] \n",
    "    for k in range(L): \n",
    "        n1, n2 = get_neighbors(L, k)\n",
    "        a1 = -np.sin(XY[k] - XY[n1])\n",
    "        a2 = -np.sin(XY[k] - XY[n2])\n",
    "        log_grad.append( a1 + a2 )  \n",
    "    return beta * np.array(log_grad)\n",
    "\n",
    "#test log_gradient \n",
    "beta_test = 1\n",
    "\n",
    "XY_test = np.array([0, 0, 0])\n",
    "print(\"expected: (0, 0, 0) \\t| actual: {}\".format(\n",
    "np.round( log_gradient(XY_test, beta_test) ) ) ) \n",
    "\n",
    "XY_test = np.array([np.pi / 2, np.pi, np.pi/2])\n",
    "print(\"expected: (1, -2, 1) \\t| actual: {}\".format(\n",
    "np.round( log_gradient(XY_test, beta_test) ) ) ) \n",
    "\n",
    "XY_test = np.array([0, np.pi, 0])\n",
    "print(\"expected: (0, 0, 0) \\t| actual: {}\".format(\n",
    "np.round( log_gradient(XY_test, beta_test) ) ) ) "
   ]
  },
  {
   "cell_type": "markdown",
   "metadata": {},
   "source": [
    "With the helper functions, we can now draw a samples (gaussian_overdamp_step)"
   ]
  },
  {
   "cell_type": "code",
   "execution_count": 67,
   "metadata": {},
   "outputs": [
    {
     "name": "stdout",
     "output_type": "stream",
     "text": [
      "[ 0.61869265  4.8249585  -3.51475104]\n"
     ]
    }
   ],
   "source": [
    "def gaussian_overdamp_step(XY, h, S, beta, identity = True): \n",
    "\n",
    "    L = len(XY)\n",
    "    \n",
    "    #compute partial \n",
    "    log_grad = log_gradient(XY, beta)\n",
    "    \n",
    "    t1 = h * log_grad #1st taylor term  \n",
    "    t2 = np.sqrt(2 * h) * np.random.normal(size = L) #multivariate normal with independence is just normal \n",
    "    \n",
    "    if not identity: \n",
    "        t1 = np.dot(S, t1)\n",
    "        #cholesky decomp \n",
    "        sqrt_S = np.linalg.cholesky(S)\n",
    "        t2 = np.dot(sqrt_S, t2)\n",
    "        \n",
    "    return XY + t1 + t2 \n",
    "\n",
    "#Test recursive step\n",
    "S_test = np.eye(3)\n",
    "h = 2\n",
    "print( gaussian_overdamp_step(XY_test, h, S_test, beta_test) )\n",
    "\n",
    "def get_mag_angle(XY): \n",
    "    '''\n",
    "    params: \n",
    "        XY - the 1d lattice of the XY model. \n",
    "    returns: \n",
    "        cosine of the angle of magnetization\n",
    "    '''\n",
    "    Mx = np.cos( np.sum(XY) ) \n",
    "    My = np.sin( np.sum(XY) ) \n",
    "    return Mx / np.sqrt(Mx**2 + My**2)\n",
    "    \n",
    "def angle_mag_overdamped_sampling(L, n, h, S, beta): \n",
    "    '''\n",
    "    params: \n",
    "        L - length of 1d lattice \n",
    "        n - number of samples to draw \n",
    "        h - scale parameter \n",
    "        S - covariance between \"points\" (each \"point\" is 2d vector) in lattice \n",
    "    returns: \n",
    "        length n list of the cosine of the angle of the magnetization \n",
    "        at each step \n",
    "    '''\n",
    "    XY_step = initialize_XY(L)\n",
    "    mags = []\n",
    "    for i in range(n): \n",
    "        XY_step = gaussian_overdamp_step(XY_step, h, S, beta)\n",
    "        mags.append(get_mag_angle(XY_step))\n",
    "    return mags"
   ]
  },
  {
   "cell_type": "markdown",
   "metadata": {},
   "source": [
    "Now we're ready to do simulations using the overdamped scheme. Let's try it out for different values of $h$ and $L$: "
   ]
  },
  {
   "cell_type": "code",
   "execution_count": 68,
   "metadata": {},
   "outputs": [
    {
     "data": {
      "image/png": "[encoded data removed]",
      "text/plain": [
       "<matplotlib.figure.Figure at 0x7fedc0f6e470>"
      ]
     },
     "metadata": {},
     "output_type": "display_data"
    },
    {
     "name": "stdout",
     "output_type": "stream",
     "text": [
      "The MCMC estimator for the simple overdamped scheme is 0.02332, with integrated autocorrelation time of 1.07004\n"
     ]
    }
   ],
   "source": [
    "n = 5000; beta = 0.1\n",
    "\n",
    "l = 3; h = 1\n",
    "\n",
    "S = np.eye(l) \n",
    "mag_overdamped = angle_mag_overdamped_sampling(l, n, h, S, beta)  \n",
    "plt.hist( mag_overdamped ) \n",
    "plt.title(\"L = {}, h = {}, beta = {}, n = {}\".format(l, h, beta, n))\n",
    "plt.show()\n",
    "\n",
    "tau_mh, mean_mh, sigma_mh = np.round( acor.acor(mag_overdamped), 5)   \n",
    "print(\"The MCMC estimator for the simple overdamped scheme is {}, with integrated autocorrelation time of {}\".\n",
    "      format(mean_mh, tau_mh))"
   ]
  },
  {
   "cell_type": "markdown",
   "metadata": {},
   "source": [
    "## Metropolized\n",
    "\n",
    "Using the update $Y^{(k+1)}_h \\textrm{ ~ }  q(y |x^{(k)}_h)$ with the acceptance probabillity \n",
    "\n",
    "$$\n",
    "p_{acc} =  \\textrm{min} \\bigg\\{1, \n",
    "\\frac{\\pi(Y^{(k)}) q(X^{(k-1)} | Y^{(k)})}\n",
    "{\\pi(X^{(k-1)}) q(Y^{(k)} | X^{(k-1)})}\n",
    "\\bigg\\}\n",
    "$$\n",
    "\n",
    "As in the previous case, $\\mathbf{S = I}$. Therefore, $q(\\mathbf{ y |x })$ is the density of the multivariate gaussian $N(\\mathbf{x}, 2h\\mathbf{I})$. This implies that \n",
    "$$\n",
    "q(X^{(k-1)} | Y^{(k)}) = \\frac{1}{\\mathcal{Z}}exp(\\frac{ \\| X^{(k-1)} - Y^{(k)} \\|^2}{h}) \n",
    "= \\frac{1}{\\mathcal{Z}}exp(\\frac{ \\| Y^{(k)} - X^{(k-1)} \\|^2}{h}) = q(Y^{(k)} | X^{(k-1)})\n",
    "$$\n",
    "\n",
    "So we now have \n",
    "$$\n",
    "p_{acc} =  \\textrm{min} \\bigg\\{1, \n",
    "\\frac{\\pi(Y^{(k)}) }\n",
    "{\\pi(X^{(k-1)})}\n",
    "\\bigg\\}\n",
    "$$\n",
    "Implementation using the XY model is below. "
   ]
  },
  {
   "cell_type": "code",
   "execution_count": 70,
   "metadata": {},
   "outputs": [
    {
     "name": "stdout",
     "output_type": "stream",
     "text": [
      "expected: 6 \t| actual: 6.0\n",
      "expected: 2 \t| actual: 2.0\n",
      "expected: -2 \t| actual: -2.0\n",
      "\n",
      "Testing get_XY_p_acc(): \n",
      "\n",
      "expected: 1 \t| actual: 1\n",
      "expected: small number \t| actual: 0.0183\n",
      "expected: same small number \t| actual: 0.0183\n"
     ]
    }
   ],
   "source": [
    "def sum_XY(XY): \n",
    "    '''\n",
    "    in terms of angles\n",
    "    params: \n",
    "        XY - the current 1d lattice of the XY model. \n",
    "                len L numpy array of angles   \n",
    "    returns:\n",
    "        sum_{|j - i| = 1} (cos(theta(i) - theta(j)))\n",
    "    '''\n",
    "   \n",
    "    sum_xy = 0  \n",
    "    L = len(XY)\n",
    "    for i in range(L): \n",
    "        n1, n2 = get_neighbors(L, i)\n",
    "        a1 = np.cos(XY[i] - XY[n1])\n",
    "        a2 = np.cos(XY[i] - XY[n2])\n",
    "        sum_xy += ( a1 + a2 )  \n",
    "    return sum_xy\n",
    "\n",
    "# Test sum_XY: \n",
    "XY_test = np.array([0, 0, 0])\n",
    "print(\"expected: 6 \\t| actual: {}\".format(\n",
    "np.round( sum_XY(XY_test) ) ) )\n",
    "\n",
    "XY_test = np.array([np.pi / 2, np.pi, np.pi/2])\n",
    "print(\"expected: 2 \\t| actual: {}\".format(\n",
    "np.round( sum_XY(XY_test) ) ) )\n",
    "\n",
    "XY_test = np.array([0, np.pi, 0])\n",
    "print(\"expected: -2 \\t| actual: {}\".format(\n",
    "np.round( sum_XY(XY_test) ) ) )  \n",
    "\n",
    "def density_XY(XY, beta):\n",
    "    '''\n",
    "    in terms of angles\n",
    "    params: \n",
    "        XY - the current 1d lattice of the XY model. \n",
    "                len L numpy array of angles   \n",
    "    returns:\n",
    "        exp( beta * sum_{|j - i| = 1} (cos(theta(i) - theta(j))) ) \n",
    "    '''\n",
    "    return np.exp(beta * sum_XY(XY))\n",
    "\n",
    "\n",
    "def get_XY_p_acc(y, x, beta, h): \n",
    "    '''\n",
    "    params: \n",
    "        y - XY model Y^(k+1), length L vector of proposed next step in XY model \n",
    "        x - XY model X^(k), length L vector of current state \n",
    "    returns: \n",
    "        acceptance probabillity min{1, ...}\n",
    "    '''\n",
    "    \n",
    "    density_ratio = np.exp(beta * (sum_XY(y) - sum_XY(x)))\n",
    "    return min([1, density_ratio])  \n",
    "\n",
    "#test get_XY_p_acc():\n",
    "print(\"\\nTesting get_XY_p_acc(): \\n\")\n",
    "y = np.array([0, 0, 0])\n",
    "\n",
    "x = np.array([0, 0, 0])\n",
    "print(\"expected: 1 \\t| actual: {}\".format(\n",
    "np.round( get_XY_p_acc(y, x, beta_test, 1) ) ) )\n",
    "\n",
    "y = np.array([np.pi / 2, np.pi, np.pi/2])\n",
    "print(\"expected: small number \\t| actual: {}\".format(\n",
    "np.round( get_XY_p_acc(y, x, beta_test, 1), decimals = 4 ) ) )\n",
    "\n",
    "y = -1 * np.array([np.pi / 2, np.pi, np.pi/2])\n",
    "print(\"expected: same small number \\t| actual: {}\".format(\n",
    "np.round( get_XY_p_acc(y, x, beta_test, 1), decimals = 4 ) ) )"
   ]
  },
  {
   "cell_type": "code",
   "execution_count": 108,
   "metadata": {
    "collapsed": true
   },
   "outputs": [],
   "source": [
    "def metropolis_XY(L, beta, h, S, n):\n",
    "    '''\n",
    "    params: \n",
    "        L - length of 1d lattice \n",
    "        n - number of samples to draw \n",
    "        h - scale parameter \n",
    "        S - covariance between \"points\" (each \"point\" is 2d vector) in lattice \n",
    "    returns: \n",
    "        - length n list of the cosine of the angle of the magnetization \n",
    "        at each step\n",
    "        - the average acceptance rate over the iterations \n",
    "    '''\n",
    "    mags = []\n",
    "    acc_rates = [] \n",
    "    XY_step = initialize_XY(L)\n",
    "    for i in range(n):\n",
    "        y = gaussian_overdamp_step(XY_step, h, S, beta)\n",
    "        p_acc = get_XY_p_acc(y, XY_step, beta, h) #y proposal, x \n",
    "        accept = np.random.choice([True, False], p = [p_acc, 1 - p_acc])\n",
    "        if accept:\n",
    "            XY_step = y \n",
    "        mags.append(get_mag_angle(XY_step))\n",
    "        acc_rates.append(p_acc)\n",
    "    return mags, np.mean(acc_rates) \n",
    "        "
   ]
  },
  {
   "cell_type": "code",
   "execution_count": 111,
   "metadata": {},
   "outputs": [
    {
     "data": {
      "image/png": "[encoded data removed]",
      "text/plain": [
       "<matplotlib.figure.Figure at 0x7fedc129b9b0>"
      ]
     },
     "metadata": {},
     "output_type": "display_data"
    },
    {
     "name": "stdout",
     "output_type": "stream",
     "text": [
      "accept rate: 0.8651059498871398\n",
      "The MCMC estimator for the simple metropolized scheme is -0.00972, with integrated autocorrelation time of 1.54989\n"
     ]
    }
   ],
   "source": [
    "n = 5000; beta = 0.1\n",
    "\n",
    "l = 3; h = 1; S = np.eye(l)\n",
    "\n",
    "metro_mags, ar = metropolis_XY(l, beta, h, S, n)\n",
    "plt.hist( metro_mags ) \n",
    "plt.title(\"L = {}, h = {}, beta = {}, n = {}\".format(l, h, beta, n))\n",
    "plt.show()\n",
    "print(\"accept rate: {}\".format(ar))\n",
    "\n",
    "tau_mh, mean_mh, sigma_mh = np.round( acor.acor(metro_mags), 5)   \n",
    "print(\"The MCMC estimator for the simple metropolized scheme is {}, with integrated autocorrelation time of {}\".\n",
    "      format(mean_mh, tau_mh))\n"
   ]
  },
  {
   "cell_type": "markdown",
   "metadata": {},
   "source": [
    "## Metropolized vs un-Metropolized"
   ]
  },
  {
   "cell_type": "markdown",
   "metadata": {},
   "source": [
    "For fixed $\\beta$ and samples drawn: "
   ]
  },
  {
   "cell_type": "code",
   "execution_count": 198,
   "metadata": {},
   "outputs": [
    {
     "name": "stdout",
     "output_type": "stream",
     "text": [
      "h: 0.001\t| L: 3 \t| Metro IAT: 111.962\t| Non IAT: 93.055\n",
      "h: 0.01\t| L: 3 \t| Metro IAT: 19.087\t| Non IAT: 25.404\n",
      "h: 0.05\t| L: 3 \t| Metro IAT: 6.506\t| Non IAT: 11.627\n",
      "h: 0.1\t| L: 3 \t| Metro IAT: 3.369\t| Non IAT: 5.491\n",
      "h: 0.5\t| L: 3 \t| Metro IAT: 2.479\t| Non IAT: 1.137\n",
      "h: 1\t| L: 3 \t| Metro IAT: 1.369\t| Non IAT: 0.776\n",
      "h: 0.001\t| L: 6 \t| Metro IAT: 52.518\t| Non IAT: 24.624\n",
      "h: 0.01\t| L: 6 \t| Metro IAT: 5.9\t| Non IAT: 17.958\n",
      "h: 0.05\t| L: 6 \t| Metro IAT: 11.166\t| Non IAT: 4.617\n",
      "h: 0.1\t| L: 6 \t| Metro IAT: 4.157\t| Non IAT: 2.299\n",
      "h: 0.5\t| L: 6 \t| Metro IAT: 1.338\t| Non IAT: 0.961\n",
      "h: 1\t| L: 6 \t| Metro IAT: 1.406\t| Non IAT: 0.876\n",
      "h: 0.001\t| L: 9 \t| Metro IAT: 42.601\t| Non IAT: 20.532\n",
      "h: 0.01\t| L: 9 \t| Metro IAT: 21.713\t| Non IAT: 8.15\n",
      "h: 0.05\t| L: 9 \t| Metro IAT: 6.753\t| Non IAT: 3.26\n",
      "h: 0.1\t| L: 9 \t| Metro IAT: 2.583\t| Non IAT: 1.999\n",
      "h: 0.5\t| L: 9 \t| Metro IAT: 1.767\t| Non IAT: 1.178\n",
      "h: 1\t| L: 9 \t| Metro IAT: 1.449\t| Non IAT: 1.339\n",
      "h: 0.001\t| L: 12 \t| Metro IAT: 59.569\t| Non IAT: 36.787\n",
      "h: 0.01\t| L: 12 \t| Metro IAT: 13.644\t| Non IAT: 6.086\n",
      "h: 0.05\t| L: 12 \t| Metro IAT: 5.97\t| Non IAT: 2.891\n",
      "h: 0.1\t| L: 12 \t| Metro IAT: 1.715\t| Non IAT: 1.637\n",
      "h: 0.5\t| L: 12 \t| Metro IAT: 1.663\t| Non IAT: 1.18\n",
      "h: 1\t| L: 12 \t| Metro IAT: 1.736\t| Non IAT: 1.06\n",
      "h: 0.001\t| L: 15 \t| Metro IAT: 38.952\t| Non IAT: 15.737\n",
      "h: 0.01\t| L: 15 \t| Metro IAT: 9.751\t| Non IAT: 6.554\n",
      "h: 0.05\t| L: 15 \t| Metro IAT: 3.075\t| Non IAT: 2.573\n",
      "h: 0.1\t| L: 15 \t| Metro IAT: 2.134\t| Non IAT: 1.294\n",
      "h: 0.5\t| L: 15 \t| Metro IAT: 1.699\t| Non IAT: 0.947\n",
      "h: 1\t| L: 15 \t| Metro IAT: 2.155\t| Non IAT: 1.06\n"
     ]
    }
   ],
   "source": [
    "L = [3, 6, 9, 12, 15]\n",
    "scales = [0.001, 0.01, 0.05, 0.1, 0.5, 1]\n",
    "num_samples = 2000\n",
    "\n",
    "for l in L:\n",
    "    S = np.eye(l)\n",
    "    for h in scales:  \n",
    "        mag_overdamped = angle_mag_overdamped_sampling(l, num_samples, h, S, beta)  \n",
    "        metro_mags, ar = metropolis_XY(l, beta, h, S, num_samples)\n",
    "        \n",
    "        tau, mean, sigma = acor.acor(mag_overdamped)\n",
    "        tau_m, mean_m, sigma_m = acor.acor(metro_mags)\n",
    "\n",
    "        print(\"h: {}\\t| L: {} \\t| Metro IAT: {}\\t| Non IAT: {}\".\n",
    "          format(h, l, np.round(tau_m, 3), np.round(tau, 3)))\n"
   ]
  },
  {
   "cell_type": "markdown",
   "metadata": {},
   "source": [
    "As $h$ increases, IAT decreases - which makes sense this means more variance in our overdamped step. The metropolized version, as expected, has a higher IAT than the overdamped scheme, as the possibillity of rejection makes the chain evolve slower in exchange for a better estimator. "
   ]
  },
  {
   "cell_type": "markdown",
   "metadata": {},
   "source": [
    "# 56) Hybrid Monte Carlo for XY Model\n",
    "\n",
    "Write a routine to sample the XY model described in Exercise\n",
    "55 using Algorithm 4 both with and without the Metropolis accept/reject step.\n",
    "You’re free to choose the other parameters of the algorithm (K, J, n, and h)\n",
    "as you like (but be clear about your choices). Compare the results to those of\n",
    "Exercise 55 using integrated autocorrelation time of the cosine of the angle of\n",
    "magnetization as your measure of efficiency. Make sure you are accounting\n",
    "correctly for the cost to generate each step of the chain (e.g. as measured by\n",
    "the number of evaluations of r log."
   ]
  },
  {
   "cell_type": "markdown",
   "metadata": {},
   "source": [
    "For simplicity, let \n",
    "\n",
    "$$\n",
    "K(\\tilde{x}) = \\frac{ \\|x\\|^2 }{2} \\\\ \n",
    "n = 1 \\\\ \n",
    "h = 1 \\\\\n",
    "\\hat{J}_{\\tilde{L} x \\tilde{L}} = I \\\\\n",
    "J = \n",
    "\\begin{bmatrix}\n",
    "    0 & I \\\\\n",
    "    -I & 0\n",
    "\\end{bmatrix}\n",
    "$$\n",
    "\n",
    "\n",
    "which should yield the same performance as the first overdamped scheme: \n",
    "\n",
    "$$\n",
    "X^{(k+1)}_h = X^{(k)}_h + h\\mathbf{S}\\nabla^T\\textrm{log}(\\pi(X^{(k)}_h)) + \\sqrt{2h\\mathbf{S}} \\xi^{k+1}\n",
    "$$\n",
    "\n",
    "For our choice of $K(\\tilde{x})$, our density of $\\tilde{Y}^{(k-1)}$, a length $\\tilde{L}$ vector (in the context of the XY model) will then just be generated from the standard normal.  "
   ]
  },
  {
   "cell_type": "markdown",
   "metadata": {},
   "source": [
    "We are now ready to implement Hybrid MC. Let's start with some helper functions (specifically velocity verlet): "
   ]
  },
  {
   "cell_type": "code",
   "execution_count": 90,
   "metadata": {},
   "outputs": [
    {
     "name": "stdout",
     "output_type": "stream",
     "text": [
      "expected: [0, 0, 0, 0, 0, 0] \t| actual: [ 0.  0.  0.  0.  0.  0.]\n",
      "expected y_hat: [ 2.071  2.142  2.071] \t| actual y_hat: [ 2.071  2.142  2.071]\n"
     ]
    }
   ],
   "source": [
    "def velocity_verlet_XY(y_hat, y_tilde, J_hat, h, beta,\n",
    "                      identity = True):\n",
    "    '''\n",
    "    Assumes constant J\n",
    "    params: \n",
    "        y_hat - length L_hat numpy array model, lattice values \n",
    "        y_tilde - length L_tilde numpy array model, conjugate values\n",
    "        h - float, scale parameter \n",
    "        J_hat - For simplicity, L_hat x L_hat square np matrix \n",
    "        beta - inverse temp constant in XY model\n",
    "        identity - if J_hat = I, then True. Save some comp time \n",
    "    returns: \n",
    "        - y_hat_step, L_hat numpy array of XY model \n",
    "            after one step of velocity verlet\n",
    "        - y_hat_tilde, L_tilde numpy array of XY model \n",
    "            after one step of velocity verlet  \n",
    "    '''\n",
    "\n",
    "    if identity: \n",
    "        y_tilde_prime = y_tilde + 0.5 * h * log_gradient(y_hat, beta)\n",
    "        y_hat_step = y_hat + h * y_tilde_prime #gradient of l2(y_tilde_prime) \n",
    "        y_tilde_step = y_tilde_prime + 0.5 * h * log_gradient(y_hat_step, beta)\n",
    "    else: \n",
    "        #this part hasn't been checked yet, but since we are using J_hat = I anyways, we can ignore this part \n",
    "        y_tilde_prime = y_tilde + 0.5 * h * np.dot(J_hat, log_gradient(y_hat, beta))\n",
    "        y_hat_step = y_hat + h * np.dot( J_hat, (y_tilde_prime) )#gradient of l2(y_tilde_prime) \n",
    "        y_tilde_step = y_tilde_prime + h/2 * np.dot(J_hat, log_gradient(y_hat_step, beta))\n",
    "\n",
    "    return y_hat_step, y_tilde_step\n",
    "\n",
    "# Test velocity verlet scheme\n",
    "L_hat = 3; L_tilde = 3\n",
    "y_hat = np.array( [0, 0, 0] ) \n",
    "y_tilde = np.array( [0, 0, 0] )\n",
    "J_hat = np.eye(L_hat)\n",
    "h = 1\n",
    "\n",
    "vv_hat, vv_tilde  = velocity_verlet_XY(y_hat, y_tilde, J_hat, h, beta_test,\n",
    "                  identity = True) \n",
    "print(\"expected: [0, 0, 0, 0, 0, 0] \\t| actual: {}\".format( np.append( vv_hat, vv_tilde ) ) ) \n",
    "\n",
    "y_hat = np.array( [np.pi/2, np.pi, np.pi/2] ) \n",
    "y_tilde = np.array( [0, 0, 0] )\n",
    "vv, _ = np.round( velocity_verlet_XY(y_hat, y_tilde, J_hat, h, beta_test,\n",
    "                  identity = True), 3 ) \n",
    "exp_y_hat = np.round( [np.pi/2 + 0.5, np.pi - 1, np.pi/2 + 0.5], 3)\n",
    "print(\"expected y_hat: {} \\t| actual y_hat: {}\".format(exp_y_hat, vv)) #y_tilde gets tossed anyways...\n",
    "\n",
    "def velocity_verlet_rep(y_hat, y_tilde, n, J_hat, h, beta,\n",
    "                      identity = True):\n",
    "    '''\n",
    "    Assumes constant J \n",
    "    params: \n",
    "        y_hat - length L_hat numpy array model, lattice values \n",
    "        y_tilde - length L_tilde numpy array model, conjugate values\n",
    "        n - int, number of iterations of velocity verlet scheme \n",
    "        h - float, scale parameter \n",
    "        J_hat - For simplicity, L_hat x L_hat square np matrix \n",
    "        beta - inverse temp constant in XY model\n",
    "        identity - if J_hat = I, then True. Save some comp time \n",
    "    returns: \n",
    "        - returns: \n",
    "        - y_hat_step, length L_hat numpy array of XY model \n",
    "            after n steps of velocity verlet\n",
    "        - y_hat_tilde, length L_tilde numpy array of XY model \n",
    "            after n steps of velocity verlet  \n",
    "    '''\n",
    "    y_hat_step = y_hat; y_tilde_step = y_tilde \n",
    "    for i in range(n): \n",
    "        y_hat_step, y_tilde_step = velocity_verlet_XY(y_hat_step, y_tilde_step, J_hat, h, beta_test,\n",
    "                  identity = True)\n",
    "    return y_hat_step, y_tilde_step"
   ]
  },
  {
   "cell_type": "code",
   "execution_count": 91,
   "metadata": {
    "collapsed": true
   },
   "outputs": [],
   "source": [
    "def density_ratio_XY_hybrid(y_hat, y_tilde, x_hat, x_tilde, beta):\n",
    "    '''\n",
    "    pi_H(y) / pi(x);\n",
    "    y is proposal, x is previous\n",
    "    params:\n",
    "        y_hat - length L_hat numpy array of XY model (velocity verlet)\n",
    "        y_tilde - length L_tilde numpy array of conj vals (velocity verlet)\n",
    "        x_hat - length L_hat numpy array of XY model (previous)\n",
    "        x_tilde - length L_tilde numpy array of conj vals (velocity verlet)\n",
    "        beta - float, you know\n",
    "    '''\n",
    "    hat_ratio = np.exp(beta * (sum_XY(y_hat) - sum_XY(x_hat)))\n",
    "    tilde_ratio = np.exp( -0.5 * ( np.sum(y_tilde**2) - np.sum(x_tilde**2) ) )  \n",
    "    return min([1, hat_ratio * tilde_ratio]) "
   ]
  },
  {
   "cell_type": "code",
   "execution_count": 75,
   "metadata": {
    "collapsed": true
   },
   "outputs": [],
   "source": [
    "def hybrid_mc_XY(num_samples, L_hat, L_tilde, beta, h, n,\n",
    "                J_hat, identity = True,\n",
    "                 metropolize = False):\n",
    "    '''\n",
    "    Note that we express L = L_hat + L_tilde \n",
    "    params: \n",
    "        num_samples - number of samples to draw \n",
    "        L_hat - length of XY model, 1d lattice\n",
    "        L_tilde - length of conjugate values added to 1d lattice\n",
    "        n - number of iterations of velocity verlet scheme \n",
    "        h - scale parameter \n",
    "        J_hat - L_hat x L_hat np matrix\n",
    "        identity - True if J_hat = I \n",
    "        metropolize - True if you use p_acc\n",
    "        beta - inverse temp coeff \n",
    "    returns: \n",
    "        - length num_samples numpy array representing the cosine of the angle of mag \n",
    "                for the XY model on length L_hat lattice \n",
    "    ''' \n",
    "\n",
    "    L = L_hat + L_tilde\n",
    "    XY_step = initialize_XY(L_hat)\n",
    "    \n",
    "    mags = []\n",
    "    acc_rates = [] \n",
    "\n",
    "    for i in range(num_samples):\n",
    "        y_tilde = np.random.normal(size = L_tilde)\n",
    "        y_hat_step, y_tilde_step = velocity_verlet_rep(XY_step, y_tilde, n, J_hat, h, beta,\n",
    "                      identity)\n",
    "        \n",
    "        if metropolize: \n",
    "            p_acc = density_ratio_XY_hybrid(y_hat_step, y_tilde_step,\n",
    "                                           XY_step, y_tilde, beta)\n",
    "            accept = np.random.choice([True, False], p = [p_acc, 1 - p_acc])\n",
    "            if accept:\n",
    "                XY_step = y_hat_step\n",
    "            acc_rates.append(p_acc)\n",
    "        else: \n",
    "            XY_step = y_hat_step \n",
    "            \n",
    "        mags.append(get_mag_angle(XY_step))\n",
    "     \n",
    "    if metropolize: \n",
    "        return mags, np.mean(acc_rates)\n",
    "    return mags "
   ]
  },
  {
   "cell_type": "markdown",
   "metadata": {},
   "source": [
    "## Non Metropolized \n",
    "\n",
    "Without reject step: "
   ]
  },
  {
   "cell_type": "code",
   "execution_count": 195,
   "metadata": {},
   "outputs": [
    {
     "data": {
      "image/png": "[encoded data removed]",
      "text/plain": [
       "<matplotlib.figure.Figure at 0x7fedc07486a0>"
      ]
     },
     "metadata": {},
     "output_type": "display_data"
    }
   ],
   "source": [
    "num_samples = 2000 \n",
    "n = 1 \n",
    "beta = 0.1 \n",
    "\n",
    "mags_hybrid_mc_XY = hybrid_mc_XY(num_samples, L_hat, L_tilde, beta, h, n,\n",
    "                J_hat, identity = True,\n",
    "                 metropolize = False)\n",
    "plt.hist( mags_hybrid_mc_XY ) \n",
    "plt.title(\"L_hat = {}, h = {}, beta = {}, n = {}, num_samples = {}\".\n",
    "          format(L_hat, h, beta, n, num_samples))\n",
    "plt.show()"
   ]
  },
  {
   "cell_type": "markdown",
   "metadata": {},
   "source": [
    "## Metropolized \n",
    "\n",
    "Acceptance probabillity: \n",
    "\n",
    "$$\n",
    "p_{acc} = min\\bigg\\{ 1, \\frac{\\pi_{H}(Y^{(k)})}\n",
    "{\\pi_H(\\hat{X}^{(k-1)}, \\tilde{Y}^{(k-1)})} \\bigg\\}\n",
    "$$\n",
    "\n",
    "Where in the setting $K = \\|\\tilde{x}\\|^2$, \n",
    "\n",
    "$$\n",
    "\\pi_H \\propto \\pi(\\hat{x}) \\phi(\\tilde{x})\n",
    "$$\n",
    "\n",
    "Where $\\phi$ is the density of the standard multivariate normal\n",
    "\n",
    "If rejected, $\\hat{X}^{(k)} = \\hat{X}^{(k-1)}$. Conjugate terms are changed but since we toss them at each iteration we do not need to pay much attention to them. "
   ]
  },
  {
   "cell_type": "code",
   "execution_count": 196,
   "metadata": {},
   "outputs": [
    {
     "data": {
      "image/png": "[encoded data removed]",
      "text/plain": [
       "<matplotlib.figure.Figure at 0x7fedc0df0710>"
      ]
     },
     "metadata": {},
     "output_type": "display_data"
    },
    {
     "name": "stdout",
     "output_type": "stream",
     "text": [
      "acceptance rate: 0.7290440086638525\n"
     ]
    }
   ],
   "source": [
    "mags_hybrid_mc_metro_XY, ar = hybrid_mc_XY(num_samples, L_hat, L_tilde, beta, h, n,\n",
    "                J_hat, identity = True,\n",
    "                 metropolize = True)\n",
    "plt.hist( mags_hybrid_mc_metro_XY ) \n",
    "plt.title(\"L_hat = {}, h = {}, beta = {}, n = {}, num_samples = {}\".\n",
    "          format(L_hat, h, beta, n, num_samples))\n",
    "plt.show()\n",
    "\n",
    "print(\"acceptance rate: {}\".format(ar))"
   ]
  },
  {
   "cell_type": "markdown",
   "metadata": {},
   "source": [
    "## Metropolized vs Un Metropolized"
   ]
  },
  {
   "cell_type": "markdown",
   "metadata": {},
   "source": [
    "For $\\beta = 0.1$, 2000 samples, and $\\hat{L} = \\tilde{L} = 3$"
   ]
  },
  {
   "cell_type": "code",
   "execution_count": 202,
   "metadata": {
    "scrolled": true
   },
   "outputs": [
    {
     "name": "stdout",
     "output_type": "stream",
     "text": [
      "h: 0.001\t| Metro IAT: 103.165\t| Non IAT: 50.541\n",
      "h: 0.01\t| Metro IAT: 115.919\t| Non IAT: 98.28\n",
      "h: 0.05\t| Metro IAT: 27.143\t| Non IAT: 67.09\n",
      "h: 0.1\t| Metro IAT: 34.867\t| Non IAT: 23.96\n",
      "h: 0.5\t| Metro IAT: 8.23\t| Non IAT: 4.384\n",
      "h: 1\t| Metro IAT: 2.116\t| Non IAT: 1.408\n"
     ]
    }
   ],
   "source": [
    "np.random.seed(56)\n",
    "scales = [0.001, 0.01, 0.05, 0.1, 0.5, 1]\n",
    "for h in scales:\n",
    "    mags_hybrid_mc_XY = hybrid_mc_XY(num_samples, L_hat, L_tilde, beta, h, n,\n",
    "                J_hat, identity = True,\n",
    "                 metropolize = False)\n",
    "    mags_hybrid_mc_metro_XY, ar = hybrid_mc_XY(num_samples, L_hat, L_tilde, beta, h, n,\n",
    "                J_hat, identity = True,\n",
    "                 metropolize = True)\n",
    "    tau_mh, mean_mh, sigma_mh = np.round( acor.acor(mags_hybrid_mc_XY), 3)   \n",
    "    tau_mh_metro, mean_mh, sigma_mh = np.round( acor.acor(mags_hybrid_mc_metro_XY), 3)\n",
    "    \n",
    "    print(\"h: {}\\t| Metro IAT: {}\\t| Non IAT: {}\".\n",
    "      format(h, tau_mh_metro, tau_mh))\n",
    "    "
   ]
  },
  {
   "cell_type": "markdown",
   "metadata": {},
   "source": [
    "As expected, IAT of metropolis is generally larger than the  un metropolized counterpart, and as $h$ gets largers, IAT falls. In comparison to 55), we would be prefer the latter since it costs less and gives a reasonable estimate. (IAT also seems to be smaller for 55)"
   ]
  },
  {
   "cell_type": "markdown",
   "metadata": {},
   "source": [
    "# 57) Underdamped Langevin \n",
    "\n",
    "Helper functions below. (For Frictional Velocity Verlet - 5.23) \n"
   ]
  },
  {
   "cell_type": "code",
   "execution_count": 269,
   "metadata": {},
   "outputs": [
    {
     "ename": "SyntaxError",
     "evalue": "invalid syntax (<ipython-input-269-bd6d639529b9>, line 55)",
     "output_type": "error",
     "traceback": [
      "\u001b[0;36m  File \u001b[0;32m\"<ipython-input-269-bd6d639529b9>\"\u001b[0;36m, line \u001b[0;32m55\u001b[0m\n\u001b[0;31m    J_hat, identity = True):\u001b[0m\n\u001b[0m        ^\u001b[0m\n\u001b[0;31mSyntaxError\u001b[0m\u001b[0;31m:\u001b[0m invalid syntax\n"
     ]
    }
   ],
   "source": [
    "def gaussian_fvv( x_hat_0, x_tilde_0, h, gamma, beta,\n",
    "       J_hat, identity = True): \n",
    "    '''\n",
    "    Eq. 5.23), Assumes constant J_hat, L_hat iid gaussians xi,\n",
    "    , K = ||x_tilde||^2/2, \n",
    "    , block matrix S = 0 & 0 \\\\   \n",
    "                       0 & gamma * I \n",
    "    one iteration of frictional velocity verlet scheme \n",
    "    params: \n",
    "        x_hat_0 - length L_hat numpy array model, lattice values \n",
    "        x_tilde_0 - length L_tilde numpy array model, conjugate values\n",
    "        h - float, scale parameter \n",
    "        beta - inverse temp coeff in XY density \n",
    "        J_hat - For simplicity, L_hat x L_hat square np matrix \n",
    "        identity - if J_hat = I, then True. Save some comp time \n",
    "    returns: \n",
    "        - x_hat_step, L_hat numpy array of XY model \n",
    "            after one step of fric velocity verlet\n",
    "        - x_hat_tilde, L_tilde numpy array of XY model \n",
    "            after one step of fric velocity verlet  \n",
    "    '''\n",
    "    h2 = h/2 \n",
    "    L_hat = len(x_tilde_0)\n",
    "    L_tilde = len(x_hat_0)\n",
    "    \n",
    "    if identity: \n",
    "        x_tilde_prime = x_tilde_0 + h2 * log_gradient(x_hat_0, beta)\n",
    "        x_hat_prime = x_hat_0 + h2 * x_tilde_prime #gradient of l2(y_tilde_prime) \n",
    "        \n",
    "        fc = np.exp(-gamma * h)\n",
    "        xi = np.random.normal(size = L_tilde)\n",
    "        x_tilde_prime2 = fc * x_tilde_prime + np.sqrt(1 - fc**2) * xi\n",
    "        \n",
    "        x_hat_step = x_hat_prime + h2 * x_tilde_prime2\n",
    "        x_tilde_step = x_tilde_prime2 + h/2 * log_gradient(x_hat_step, beta)\n",
    "        return x_hat_step, x_tilde_step\n",
    "    \n",
    "    else: \n",
    "        lg1 = log_gradient(x_hat_0, beta).reshape(L_hat, 1)\n",
    "        x_tilde_prime = x_tilde_0 + h2 * np.dot(J_hat.transpose, lg1)  \n",
    "        x_hat_prime = x_hat_0 + h2 * np.dot(J_hat, x_tilde_prime) #gradient of l2(y_tilde_prime) \n",
    "        \n",
    "        fc = np.exp(-gamma * h)\n",
    "        xi = np.random.normal(size = L_hat)\n",
    "        x_tilde_prime2 = fc * x_tilde_prime + np.sqrt(1 - fc**2) * xi\n",
    "        \n",
    "        x_hat_step = x_hat_prime + h2 * np.dot(J_hat, x_tilde_prime2)\n",
    "        \n",
    "        lg2 = log_gradient(x_hat_step, beta).reshape(L_hat, 1)\n",
    "        x_tilde_step = x_tilde_prime2 + h2 * np.dot(J_hat.transpose, lg2)\n",
    "        return x_hat_step, x_tilde_step\n",
    "\n",
    "    \n",
    "def gaussian_fvv_rep(x_hat_0, x_tilde_0, h, gamma, beta, n\n",
    "       J_hat, identity = True):\n",
    "    '''\n",
    "    Assumes constant J \n",
    "    returns: \n",
    "        - x_hat_step, L_hat numpy array of XY model \n",
    "            after n steps of fric velocity verlet\n",
    "        - x_hat_tilde, L_tilde numpy array of XY model \n",
    "            after n steps of fric velocity verlet  \n",
    "    '''\n",
    "    x_hat_step = x_hat; x_tilde_step = x_tilde \n",
    "    for i in range(n): \n",
    "        x_hat_step, x_tilde_step = gaussian_fvv(x_hat_0, x_tilde_0, h, gamma, beta, n, J_hat, identity)\n",
    "    return x_hat_step, x_tilde_step"
   ]
  },
  {
   "cell_type": "code",
   "execution_count": 257,
   "metadata": {},
   "outputs": [
    {
     "name": "stdout",
     "output_type": "stream",
     "text": [
      "expected: [0, 0, 0, 0, 0, 0] \t| actual: [-0.28645935 -0.07000111 -0.60562178 -0.62241847 -0.5025756  -0.79917042]\n",
      "expected y_hat: [ 2.071  2.142  2.071] \t| actual y_hat: [ 2.05392024  2.255542    1.88345958]\n"
     ]
    }
   ],
   "source": [
    "# Test frictional velocity verlet scheme\n",
    "L_hat = 3; L_tilde = 3\n",
    "y_hat = np.array( [0, 0, 0] ) \n",
    "y_tilde = np.array( [0, 0, 0] )\n",
    "J_hat = np.eye(L_hat); h = 1; gamma = 0.5\n",
    "\n",
    "fvv_hat, fvv_tilde  = gaussian_fvv( y_hat, y_tilde, h, gamma, test_beta,\n",
    "       J_hat, identity = True) #should match velocity verlet since gamma = 0  \n",
    "print(\"expected: [0, 0, 0, 0, 0, 0] \\t| actual: {}\".format( np.append( fvv_hat, fvv_tilde ) ) ) \n",
    "\n",
    "y_hat = np.array( [np.pi/2, np.pi, np.pi/2] ) \n",
    "y_tilde = np.array( [0, 0, 0] )\n",
    "fvv_hat, fvv_tilde  = gaussian_fvv( y_hat, y_tilde, h, gamma, test_beta,\n",
    "       J_hat, identity = True) #should match velocity verlet since gamma = 0\n",
    "exp_y_hat = np.round( [np.pi/2 + 0.5, np.pi - 1, np.pi/2 + 0.5], 3)\n",
    "print(\"expected y_hat: {} \\t| actual y_hat: {}\".format(exp_y_hat, fvv_hat)) #y_tilde gets tossed anyways..."
   ]
  },
  {
   "cell_type": "code",
   "execution_count": 208,
   "metadata": {},
   "outputs": [
    {
     "name": "stdout",
     "output_type": "stream",
     "text": [
      "Quick Test: 0.6907114828855941\n",
      "Quick Test: 2.6395115302462588e-19\n"
     ]
    }
   ],
   "source": [
    "def transition_density(y_hat, y_tilde, x_hat, x_tilde,\n",
    "          h, gamma, J_hat, identity = True): \n",
    "    '''\n",
    "    r(x, y) = ... \n",
    "    '''\n",
    "    egh = np.exp(-gamma * h)\n",
    "    var = 2 * (1 - egh**2)\n",
    "    d = y_tilde - egh * x_tilde\n",
    "    g = (egh * log_gradient(x_hat, beta) + log_gradient(y_hat, beta))\n",
    "    if identity: \n",
    "        mu = 0.5 * h * g\n",
    "    else: \n",
    "        mu = 0.5 * h * np.dot(J_hat.transpose, g.reshape(len(G), 1))\n",
    "    return np.exp(-np.sum((d - mu)**2) / var)\n",
    "\n",
    "gamma_test = 0.5\n",
    "L_test = 3 \n",
    "y_hat = np.array( [np.pi] * L_test )\n",
    "y_tilde = np.array( [np.pi] * L_test )\n",
    "x_hat = np.array( [np.pi] * L_test )\n",
    "x_tilde = np.array( [np.pi] * L_test )\n",
    "print(\"Quick Test: {}\".format(transition_density(y_hat, y_tilde, x_hat, x_tilde,\n",
    "                  h, gamma_test, J_hat, True)))\n",
    "\n",
    "x_hat = np.array( [np.pi/2] * L_test )\n",
    "x_tilde = np.array( [np.pi/2] * L_test )\n",
    "print(\"Quick Test: {}\".format(transition_density(y_hat, y_tilde, x_hat, x_tilde,\n",
    "                  h, gamma_test, J_hat, True)))\n"
   ]
  },
  {
   "cell_type": "code",
   "execution_count": 218,
   "metadata": {},
   "outputs": [
    {
     "name": "stdout",
     "output_type": "stream",
     "text": [
      "Quick Test: 1\n"
     ]
    }
   ],
   "source": [
    "def vflip_p_acc(y_hat, y_tilde, x_hat, x_tilde, beta,\n",
    "                h, gamma, J_hat, identity): \n",
    "    '''\n",
    "    as outlined in algo 6\n",
    "    params: \n",
    "        \n",
    "    returns: \n",
    "        min{1, ...}\n",
    "    '''\n",
    "    dr = density_ratio_XY_hybrid(y_hat, y_tilde, x_hat, x_tilde, beta)\n",
    "    tr_step = transition_density(y_hat, -y_tilde, x_hat, -x_tilde,\n",
    "                                h, gamma, J_hat, identity)\n",
    "    tr = transition_density(x_hat, x_tilde, y_hat, y_tilde,\n",
    "                                h, gamma, J_hat, identity)\n",
    "    return min([1, dr * tr_step / tr])\n",
    "\n",
    "x_hat = np.array( [np.pi] * L_test )\n",
    "x_tilde = np.array( [np.pi ] * L_test )\n",
    "print(\"Quick Test: {}\".format(vflip_p_acc(y_hat, y_tilde, x_hat, x_tilde, beta,\n",
    "                h, gamma, J_hat, True) ) )"
   ]
  },
  {
   "cell_type": "code",
   "execution_count": 159,
   "metadata": {
    "collapsed": true
   },
   "outputs": [],
   "source": [
    "def underdamped_langevin_XY( \n",
    "    num_samples, L_hat, L_tilde, beta, h,\n",
    "                J_hat, gamma, identity = True, \n",
    "                 metropolize = False):\n",
    "    '''\n",
    "    Note that we express L = L_hat + L_tilde \n",
    "    params: \n",
    "        num_samples - number of samples to draw \n",
    "        L_hat - length of XY model, 1d lattice\n",
    "        L_tilde - length of conjugate values added to 1d lattice\n",
    "        h - scale parameter \n",
    "        gamma - frictional coeff \n",
    "        J_hat - L_hat x L_hat np matrix\n",
    "        identity - True if J_hat = I \n",
    "        metropolize - True if you use p_acc\n",
    "        beta - inverse temp coeff \n",
    "    returns: \n",
    "        - length num_samples numpy array representing the cosine of the angle of mag \n",
    "                for the XY model on length L_hat lattice \n",
    "    ''' \n",
    "    x_hat = initialize_XY(L_hat)\n",
    "    x_tilde = initialize_XY(L_tilde)\n",
    "    \n",
    "    mags = []\n",
    "    acc_rates = [] \n",
    "\n",
    "    for i in range(num_samples):\n",
    "        y_hat, y_tilde = gaussian_fvv( x_hat, x_tilde, h, \n",
    "                                        gamma, beta,\n",
    "                                        J_hat, identity = True) \n",
    "        if metropolize: \n",
    "            p_acc = vflip_p_acc(y_hat, y_tilde, x_hat, y_tilde, \n",
    "                beta, h, gamma, J_hat, identity)\n",
    "            accept = np.random.choice([True, False], p = [p_acc, 1 - p_acc])\n",
    "            if accept:\n",
    "                x_hat = y_hat\n",
    "                x_tilde = y_tilde\n",
    "            else: \n",
    "                x_tilde = -x_tilde #velocity flip \n",
    "\n",
    "            acc_rates.append(p_acc)\n",
    "        else: \n",
    "            x_hat = y_hat \n",
    "            \n",
    "        mags.append(get_mag_angle(x_hat))\n",
    "     \n",
    "    if metropolize: \n",
    "        return mags, np.mean(acc_rates)\n",
    "    return mags "
   ]
  },
  {
   "cell_type": "markdown",
   "metadata": {},
   "source": [
    "## un - Metropolized "
   ]
  },
  {
   "cell_type": "code",
   "execution_count": 262,
   "metadata": {},
   "outputs": [
    {
     "data": {
      "image/png": "[encoded data removed]",
      "text/plain": [
       "<matplotlib.figure.Figure at 0x7fedc0c6bf28>"
      ]
     },
     "metadata": {},
     "output_type": "display_data"
    }
   ],
   "source": [
    "num_samples = 2000 \n",
    "n = 1 \n",
    "beta = 0.1 \n",
    "gamma = 0.1\n",
    "\n",
    "mags_flip_XY = underdamped_langevin_XY(num_samples, L_hat, L_tilde, beta, h,\n",
    "                J_hat, gamma, identity = True, \n",
    "                 metropolize = False)\n",
    "plt.hist( mags_flip_XY ) \n",
    "plt.title(\"Algorithm 6, Met: L_hat = {}, h = {}, beta = {}, n = {}, num_samples = {}\".\n",
    "          format(L_hat, h, beta, n, num_samples))\n",
    "plt.show()"
   ]
  },
  {
   "cell_type": "markdown",
   "metadata": {},
   "source": [
    "## Metropolized"
   ]
  },
  {
   "cell_type": "code",
   "execution_count": 166,
   "metadata": {
    "scrolled": true
   },
   "outputs": [
    {
     "data": {
      "image/png": "[encoded data removed]",
      "text/plain": [
       "<matplotlib.figure.Figure at 0x7fedc079ce80>"
      ]
     },
     "metadata": {},
     "output_type": "display_data"
    },
    {
     "name": "stdout",
     "output_type": "stream",
     "text": [
      "acceptance rate: 0.8930049581911996\n"
     ]
    }
   ],
   "source": [
    "mags_flip_XY_met, ar = underdamped_langevin_XY(num_samples, L_hat, L_tilde, beta, h,\n",
    "                J_hat, gamma, identity = True, \n",
    "                 metropolize = True)\n",
    "plt.hist( mags_flip_XY_met ) \n",
    "plt.title(\"Algorithm 6, Met: L_hat = {}, h = {}, beta = {}, n = {}, num_samples = {}\".\n",
    "          format(L_hat, h, beta, n, num_samples))\n",
    "plt.show()\n",
    "print(\"acceptance rate: {}\".format(ar))"
   ]
  },
  {
   "cell_type": "markdown",
   "metadata": {},
   "source": [
    "## Metropolized vs un Metropolized Velocity Flip\n",
    "\n",
    "For fixed $\\beta = 0.1$, $L = \\hat{L} + \\tilde{L} = 20$ "
   ]
  },
  {
   "cell_type": "code",
   "execution_count": 265,
   "metadata": {},
   "outputs": [
    {
     "name": "stdout",
     "output_type": "stream",
     "text": [
      "h: 0.001\t| gamma: 0 \t| Metro IAT: 0.081\t| Non IAT: 15.405\n",
      "h: 0.01\t| gamma: 0 \t| Metro IAT: 0.081\t| Non IAT: 2.675\n",
      "h: 0.05\t| gamma: 0 \t| Metro IAT: 0.081\t| Non IAT: 0.906\n"
     ]
    },
    {
     "ename": "RuntimeError",
     "evalue": "D was negative in acor. Can't calculate sigma.",
     "output_type": "error",
     "traceback": [
      "\u001b[0;31m-----------------------------------------------------------------------\u001b[0m",
      "\u001b[0;31mRuntimeError\u001b[0m                          Traceback (most recent call last)",
      "\u001b[0;32m<ipython-input-265-556fc5c5bc63>\u001b[0m in \u001b[0;36m<module>\u001b[0;34m()\u001b[0m\n\u001b[1;32m     11\u001b[0m         \u001b[0;31m#         metropolize = True)\u001b[0m\u001b[0;34m\u001b[0m\u001b[0;34m\u001b[0m\u001b[0m\n\u001b[1;32m     12\u001b[0m \u001b[0;34m\u001b[0m\u001b[0m\n\u001b[0;32m---> 13\u001b[0;31m         \u001b[0mtau\u001b[0m\u001b[0;34m,\u001b[0m \u001b[0mmean\u001b[0m\u001b[0;34m,\u001b[0m \u001b[0m_\u001b[0m \u001b[0;34m=\u001b[0m \u001b[0macor\u001b[0m\u001b[0;34m.\u001b[0m\u001b[0macor\u001b[0m\u001b[0;34m(\u001b[0m\u001b[0mmags_flip_XY\u001b[0m\u001b[0;34m)\u001b[0m\u001b[0;34m\u001b[0m\u001b[0m\n\u001b[0m\u001b[1;32m     14\u001b[0m         \u001b[0;31m#tau_m, mean_m, _ = acor.acor(mags_flip_XY_met)\u001b[0m\u001b[0;34m\u001b[0m\u001b[0;34m\u001b[0m\u001b[0m\n\u001b[1;32m     15\u001b[0m \u001b[0;34m\u001b[0m\u001b[0m\n",
      "\u001b[0;32m~/anaconda3/lib/python3.6/site-packages/acor-1.1.1-py3.6-linux-x86_64.egg/acor/acor.py\u001b[0m in \u001b[0;36macor\u001b[0;34m(data, maxlag)\u001b[0m\n\u001b[1;32m     31\u001b[0m \u001b[0;34m\u001b[0m\u001b[0m\n\u001b[1;32m     32\u001b[0m     \"\"\"\n\u001b[0;32m---> 33\u001b[0;31m     \u001b[0;32mreturn\u001b[0m \u001b[0m_acor\u001b[0m\u001b[0;34m.\u001b[0m\u001b[0macor\u001b[0m\u001b[0;34m(\u001b[0m\u001b[0mnp\u001b[0m\u001b[0;34m.\u001b[0m\u001b[0marray\u001b[0m\u001b[0;34m(\u001b[0m\u001b[0mdata\u001b[0m\u001b[0;34m)\u001b[0m\u001b[0;34m,\u001b[0m \u001b[0mmaxlag\u001b[0m\u001b[0;34m)\u001b[0m\u001b[0;34m\u001b[0m\u001b[0m\n\u001b[0m\u001b[1;32m     34\u001b[0m \u001b[0;34m\u001b[0m\u001b[0m\n\u001b[1;32m     35\u001b[0m \u001b[0;34m\u001b[0m\u001b[0m\n",
      "\u001b[0;31mRuntimeError\u001b[0m: D was negative in acor. Can't calculate sigma."
     ]
    }
   ],
   "source": [
    "num_samples = 2000\n",
    "L_hat = 5; L_tilde = 5\n",
    "gammas = [0] \n",
    "for gamma in gammas: \n",
    "    for h in scales:  \n",
    "        mags_flip_XY = underdamped_langevin_XY(num_samples, L_hat, L_tilde, beta, h,\n",
    "                J_hat, gamma, identity = True, \n",
    "                 metropolize = False)\n",
    "        #mags_flip_XY_met, ar = underdamped_langevin_XY(num_samples, L_hat, L_tilde, beta, h,\n",
    "        #        J_hat, gamma, identity = True, \n",
    "        #         metropolize = True)\n",
    "        \n",
    "        tau, mean, _ = acor.acor(mags_flip_XY)\n",
    "        #tau_m, mean_m, _ = acor.acor(mags_flip_XY_met)\n",
    "\n",
    "        print(\"h: {}\\t| gamma: {} \\t| Metro IAT: {}\\t| Non IAT: {}\".\n",
    "          format(h, gamma, np.round(tau_m, 3), np.round(tau, 3)))\n"
   ]
  },
  {
   "cell_type": "markdown",
   "metadata": {},
   "source": [
    "Meh... This bug has been going on for a little bit and couldn't figure it out. So for my final analysis, I'm going to be a bit biased and go with 55), since it runs the fastest and didn't run into any bugs. "
   ]
  }
 ],
 "metadata": {
  "kernelspec": {
   "display_name": "Python 3",
   "language": "python",
   "name": "python3"
  },
  "language_info": {
   "codemirror_mode": {
    "name": "ipython",
    "version": 3
   },
   "file_extension": ".py",
   "mimetype": "text/x-python",
   "name": "python",
   "nbconvert_exporter": "python",
   "pygments_lexer": "ipython3",
   "version": "3.6.2"
  }
 },
 "nbformat": 4,
 "nbformat_minor": 2
}
